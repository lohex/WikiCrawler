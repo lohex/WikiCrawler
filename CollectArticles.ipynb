{
 "cells": [
  {
   "cell_type": "code",
   "execution_count": 1,
   "id": "600851e9",
   "metadata": {},
   "outputs": [],
   "source": [
    "from WikiCrawler import KnowledgeNet"
   ]
  },
  {
   "cell_type": "code",
   "execution_count": 13,
   "id": "cec0aa09",
   "metadata": {},
   "outputs": [
    {
     "name": "stdout",
     "output_type": "stream",
     "text": [
      "skipp Category:American Society for Cell Biology (from Category:Cell biology)\n",
      "skipp Category:Cell biologists (from Category:Cell biology)\n",
      "skipp Category:Molecular and cellular biology journals (from Category:Cell biology)\n",
      "skipp Category:Cell biology stubs (from Category:Cell biology)\n",
      "Scanned on level 0: found 511 pages and 14 subcategories.\n",
      "skipp Category:Cytopathologists (from Category:Cytopathology)\n",
      "skipp Category:Glycobiologists (from Category:Glycobiology)\n",
      "skipp Category:Protein stubs (from Category:Proteins)\n",
      "Scanned on level 1: found 1339 pages and 85 subcategories.\n",
      "skipp Category:Receptor stubs (from Category:Receptors)\n",
      "skipp Category:Transmembrane receptor stubs (from Category:Transmembrane receptors)\n",
      "skipp Category:Cell cycle stubs (from Category:Cell cycle)\n",
      "skipp Category:Deaths from necrotizing fasciitis (from Category:Necrosis)\n",
      "skipp Category:Centenarians (from Category:Senescence)\n",
      "skipp Category:Deaths from neurodegenerative disease (from Category:Senescence)\n",
      "skipp Category:Soaps (from Category:Membrane-active molecules)\n",
      "skipp Category:Membrane protein stubs (from Category:Membrane proteins)\n",
      "skipp Category:Regenerative medicine journals (from Category:Stem cell research)\n",
      "Scanned on level 2: found 3803 pages and 246 subcategories.\n",
      "CPU times: user 1.04 s, sys: 149 ms, total: 1.19 s\n",
      "Wall time: 22.2 s\n"
     ]
    }
   ],
   "source": [
    "%%time\n",
    "cell_biology = KnowledgeNet(start_at='Category:Cell biology',depth=3,\n",
    "    skip=['Category:Fertilizers','Category:Soaps','Category:Centenarians','Category:American Society for Cell Biology'],\n",
    "    skip_rules=[\".* about .*\",\".*logists.*\",\".*People with.*\",\".*Deaths from.*\",\".*stub.*\",\".*journals.*\"])"
   ]
  },
  {
   "cell_type": "code",
   "execution_count": 14,
   "id": "ed26e655",
   "metadata": {},
   "outputs": [
    {
     "data": {
      "text/plain": [
       "5653"
      ]
     },
     "execution_count": 14,
     "metadata": {},
     "output_type": "execute_result"
    }
   ],
   "source": [
    "len(cell_biology.articles)"
   ]
  },
  {
   "cell_type": "code",
   "execution_count": 15,
   "id": "0bfd1e12",
   "metadata": {},
   "outputs": [
    {
     "name": "stdout",
     "output_type": "stream",
     "text": [
      "skipp Category:American Society for Cell Biology (from Category:Cell biology)\n",
      "skipp Category:Cell biologists (from Category:Cell biology)\n",
      "skipp Category:Molecular and cellular biology journals (from Category:Cell biology)\n",
      "skipp Category:Cell biology stubs (from Category:Cell biology)\n",
      "Scanned on level 0: found 511 pages and 14 subcategories.\n",
      "skipp Category:Cytopathologists (from Category:Cytopathology)\n",
      "skipp Category:Glycobiologists (from Category:Glycobiology)\n",
      "skipp Category:Protein stubs (from Category:Proteins)\n",
      "Scanned on level 1: found 1339 pages and 85 subcategories.\n",
      "skipp Category:Receptor stubs (from Category:Receptors)\n",
      "skipp Category:Transmembrane receptor stubs (from Category:Transmembrane receptors)\n",
      "skipp Category:Cell cycle stubs (from Category:Cell cycle)\n",
      "skipp Category:Deaths from necrotizing fasciitis (from Category:Necrosis)\n",
      "skipp Category:Centenarians (from Category:Senescence)\n",
      "skipp Category:Deaths from neurodegenerative disease (from Category:Senescence)\n",
      "skipp Category:Soaps (from Category:Membrane-active molecules)\n",
      "skipp Category:Membrane protein stubs (from Category:Membrane proteins)\n",
      "skipp Category:Regenerative medicine journals (from Category:Stem cell research)\n",
      "Scanned on level 2: found 3803 pages and 246 subcategories.\n",
      "Collecting: [==============================] 100 % (5653/5653 pages)\n",
      " running: 45 min 59 s ; remaining: 0.0 s s \n",
      " 1397741 links 43 skipped\n"
     ]
    }
   ],
   "source": [
    "cell_biology.collect(links=True,text=False,ignore=['Category:Living people'])"
   ]
  },
  {
   "cell_type": "code",
   "execution_count": 16,
   "id": "d2874c57",
   "metadata": {},
   "outputs": [],
   "source": [
    "cell_bio_net = cell_biology.retriveNetwork()"
   ]
  },
  {
   "cell_type": "code",
   "execution_count": 5,
   "id": "9d24f400",
   "metadata": {},
   "outputs": [],
   "source": [
    "init_categories = [\n",
    "    'Category:Pathology',\n",
    "    'Category:Synthetic biology',\n",
    "    'Category:Microbiology',\n",
    "    'Category:Molecular biology',\n",
    "    'Category:Biochemistry',\n",
    "    'Category:Genetics',\n",
    "    'Category:Developmental biology',\n",
    "    'Category:Immunology',\n",
    "    'Category:Physiology']"
   ]
  },
  {
   "cell_type": "code",
   "execution_count": 6,
   "id": "032dad0a",
   "metadata": {},
   "outputs": [
    {
     "name": "stdout",
     "output_type": "stream",
     "text": [
      "Scanned on level 0: found 211 pages and 27 subcategories.\n",
      "Scanned on level 1: found 1295 pages and 118 subcategories.\n"
     ]
    }
   ],
   "source": [
    "base_collection = [KnowledgeNet(start_at=init,depth=2) for init in init_categories]"
   ]
  },
  {
   "cell_type": "code",
   "execution_count": null,
   "id": "bf576092",
   "metadata": {},
   "outputs": [],
   "source": []
  }
 ],
 "metadata": {
  "kernelspec": {
   "display_name": "tf",
   "language": "python",
   "name": "tf"
  },
  "language_info": {
   "codemirror_mode": {
    "name": "ipython",
    "version": 3
   },
   "file_extension": ".py",
   "mimetype": "text/x-python",
   "name": "python",
   "nbconvert_exporter": "python",
   "pygments_lexer": "ipython3",
   "version": "3.9.12"
  }
 },
 "nbformat": 4,
 "nbformat_minor": 5
}
