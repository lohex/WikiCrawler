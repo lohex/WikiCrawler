{
 "cells": [
  {
   "cell_type": "code",
   "execution_count": 1,
   "id": "25fe4fec",
   "metadata": {},
   "outputs": [
    {
     "name": "stdout",
     "output_type": "stream",
     "text": [
      "Appended 7 new skip_rules.\n",
      "\n"
     ]
    }
   ],
   "source": [
    "from WikiCrawler import KnowledgeNet\n",
    "\n",
    "cell_biology = KnowledgeNet()\n",
    "cell_biology.setSkipRule([\n",
    "    \".* about .*\",\".*logists.*\",\".*People with.*\",\".*Deaths from.*\",\n",
    "    \".*stub.*\",\".*journals.*\",\".*Society.*\"])"
   ]
  },
  {
   "cell_type": "code",
   "execution_count": 2,
   "id": "f1ef839a",
   "metadata": {},
   "outputs": [
    {
     "name": "stdout",
     "output_type": "stream",
     "text": [
      "Start crawling categories starting at Category:Cell biology.\n",
      "Scanned on level 1: found 510 pages and 14 subcategories, 5 skipped.\n",
      "Scanned on level 2: found 1338 pages and 85 subcategories, 4 skipped.\n"
     ]
    },
    {
     "data": {
      "text/plain": [
       "True"
      ]
     },
     "execution_count": 2,
     "metadata": {},
     "output_type": "execute_result"
    }
   ],
   "source": [
    "cell_biology.startScan(start_at='Category:Cell biology',depth=2,\n",
    "    skip=['Category:Fertilizers','Category:Soaps','Category:Centenarians'],verbose=1)"
   ]
  },
  {
   "cell_type": "code",
   "execution_count": 3,
   "id": "ed26152d",
   "metadata": {},
   "outputs": [
    {
     "name": "stdout",
     "output_type": "stream",
     "text": [
      "Category:Cell biology (14 C ; 510 A)\n",
      "    Cell anatomy (7 C ; 105 A)\n",
      "        Actin-based structures (0 C ; 0 A)\n",
      "        Cell nucleus (0 C ; 0 A)\n",
      "        Cytoplasm (0 C ; 0 A)\n",
      "        Cytoskeleton (0 C ; 0 A)\n",
      "        Matrices (biology) (0 C ; 0 A)\n",
      "        Organelles (0 C ; 0 A)\n",
      "        Ribosome (0 C ; 0 A)\n",
      "    Cell adhesion (1 C ; 5 A)\n",
      "        Cell adhesion molecules (0 C ; 0 A)\n",
      "    Cell culture (5 C ; 34 A)\n",
      "        Bioreactors (0 C ; 0 A)\n",
      "        Cell lines (0 C ; 0 A)\n",
      "        Induced stem cells (0 C ; 0 A)\n",
      "        Cell culture reagents (0 C ; 0 A)\n",
      "        Cell culture techniques (0 C ; 0 A)\n",
      "    Cell imaging (1 C ; 51 A)\n",
      "        Staining (0 C ; 0 A)\n",
      "    Cell movement (2 C ; 32 A)\n",
      "        Motor proteins (0 C ; 0 A)\n",
      "        Taxes (biology) (0 C ; 0 A)\n",
      "    Cell signaling (23 C ; 119 A)\n",
      "        7TM receptors (0 C ; 0 A)\n",
      "        Apoptosis (0 C ; 0 A)\n",
      "        Calcium signaling (0 C ; 0 A)\n",
      "        Cell-surface receptors (0 C ; 0 A)\n",
      "        Cytokines (0 C ; 0 A)\n",
      "        G protein-coupled receptors (0 C ; 0 A)\n",
      "        G proteins (0 C ; 0 A)\n",
      "        Growth factors (0 C ; 0 A)\n",
      "        Hedgehog signaling pathway (0 C ; 0 A)\n",
      "        Ionotropic receptors (0 C ; 0 A)\n",
      "        Ligands (biochemistry) (0 C ; 0 A)\n",
      "        MEK inhibitors (0 C ; 0 A)\n",
      "        Neurotrophic factors (0 C ; 0 A)\n",
      "        Opioid receptors (0 C ; 0 A)\n",
      "        Phospholipids (0 C ; 0 A)\n",
      "        Programmed cell death (0 C ; 0 A)\n",
      "        Purinergic signalling (0 C ; 0 A)\n",
      "        Receptors (0 C ; 0 A)\n",
      "        Signal transduction (0 C ; 0 A)\n",
      "        Transcription factors (0 C ; 0 A)\n",
      "        Transmembrane receptors (0 C ; 0 A)\n",
      "        Tyrosine kinase receptors (0 C ; 0 A)\n",
      "        Tyrosine kinases (0 C ; 0 A)\n",
      "    Cells (6 C ; 50 A)\n",
      "        Induced stem cells (0 C ; 0 A)\n",
      "        Cells by function (0 C ; 0 A)\n",
      "        Eukaryotic cells (0 C ; 0 A)\n",
      "        Non-terminally differentiated (blast) cells (0 C ; 0 A)\n",
      "        Prokaryotic cells (0 C ; 0 A)\n",
      "        Stem cells (0 C ; 0 A)\n",
      "    Cellular processes (11 C ; 115 A)\n",
      "        Cell communication (0 C ; 0 A)\n",
      "        Cell cycle (0 C ; 0 A)\n",
      "        Cellular senescence (0 C ; 0 A)\n",
      "        DNA repair (0 C ; 0 A)\n",
      "        Gene expression (0 C ; 0 A)\n",
      "        Meiosis (0 C ; 0 A)\n",
      "        Metabolism (0 C ; 0 A)\n",
      "        Necrosis (0 C ; 0 A)\n",
      "        Nuclear organization (0 C ; 0 A)\n",
      "        Protein targeting (0 C ; 0 A)\n",
      "        Senescence (0 C ; 0 A)\n",
      "    Cytopathology (1 C ; 16 A)\n",
      "        Staining (0 C ; 0 A)\n",
      "    Extracellular matrix (5 C ; 9 A)\n",
      "        Extracellular matrix proteins (0 C ; 0 A)\n",
      "        Extracellular matrix remodeling enzymes (0 C ; 0 A)\n",
      "        Extracellular matrix secreting cells (0 C ; 0 A)\n",
      "        Glycosaminoglycans (0 C ; 0 A)\n",
      "        Scleroprotein and ECM diseases (0 C ; 0 A)\n",
      "    Glycobiology (7 C ; 25 A)\n",
      "        Carbohydrate chemistry (0 C ; 0 A)\n",
      "        Glycolipids (0 C ; 0 A)\n",
      "        Glycomics (0 C ; 0 A)\n",
      "        Glycopeptides (0 C ; 0 A)\n",
      "        Glycoproteins (0 C ; 0 A)\n",
      "        Glycosides (0 C ; 0 A)\n",
      "        Neuraminidase inhibitors (0 C ; 0 A)\n",
      "    Membrane biology (7 C ; 175 A)\n",
      "        Phospholipids (0 C ; 0 A)\n",
      "        Protein targeting (0 C ; 0 A)\n",
      "        Endoplasmic reticulum (0 C ; 0 A)\n",
      "        Hymen (0 C ; 0 A)\n",
      "        Membrane transport modulators (0 C ; 0 A)\n",
      "        Membrane-active molecules (0 C ; 0 A)\n",
      "        Membrane proteins (0 C ; 0 A)\n",
      "    Proteins (12 C ; 711 A)\n",
      "        Proteins by function (0 C ; 0 A)\n",
      "        Proteins by location (0 C ; 0 A)\n",
      "        Proteins by structure (0 C ; 0 A)\n",
      "        Proteins by type of organism (0 C ; 0 A)\n",
      "        Protein biochemistry (0 C ; 0 A)\n",
      "        Engineered proteins (0 C ; 0 A)\n",
      "        Proteins as nutrients (0 C ; 0 A)\n",
      "        Protein classification (0 C ; 0 A)\n",
      "        Protein crops (0 C ; 0 A)\n",
      "        Protein engineering (0 C ; 0 A)\n",
      "        Proteomics (0 C ; 0 A)\n",
      "        Protein structure (0 C ; 0 A)\n",
      "    Tissue engineering (1 C ; 41 A)\n",
      "        Stem cell research (0 C ; 0 A)\n"
     ]
    }
   ],
   "source": [
    "cell_biology.printCategoryTree(2)"
   ]
  },
  {
   "cell_type": "code",
   "execution_count": 4,
   "id": "247adf5a",
   "metadata": {},
   "outputs": [
    {
     "data": {
      "text/plain": [
       "['Category:Cell biology']"
      ]
     },
     "execution_count": 4,
     "metadata": {},
     "output_type": "execute_result"
    }
   ],
   "source": [
    "cell_biology.category_tree['Category:Cell movement']"
   ]
  },
  {
   "cell_type": "code",
   "execution_count": 5,
   "id": "e04504de",
   "metadata": {},
   "outputs": [
    {
     "name": "stdout",
     "output_type": "stream",
     "text": [
      "Appended 7 new skip_rules.\n",
      "Start crawling categories starting at Category:Cell biology.\n",
      "Scanned on level 1: found 510 pages and 14 subcategories, 5 skipped.\n",
      "Scanned on level 2: found 1338 pages and 85 subcategories, 4 skipped.\n"
     ]
    }
   ],
   "source": [
    "cell_biology.printProtocol(1)"
   ]
  },
  {
   "cell_type": "code",
   "execution_count": 6,
   "id": "a1f0c617",
   "metadata": {},
   "outputs": [
    {
     "name": "stdout",
     "output_type": "stream",
     "text": [
      "Collecting: [==============================] 100 % (10/10 pages)\n",
      " running: 5.0 s ; remaining: 0.0 s s \n",
      " 1947 links 10 skipped\n"
     ]
    }
   ],
   "source": [
    "cell_biology.collect(links=True,text=False,limit=10,ignore=['Category:Living people'])"
   ]
  },
  {
   "cell_type": "code",
   "execution_count": 7,
   "id": "3d303958",
   "metadata": {},
   "outputs": [
    {
     "data": {
      "text/plain": [
       "{'Cell biology': 1, 'Cell (biology)': 1}"
      ]
     },
     "execution_count": 7,
     "metadata": {},
     "output_type": "execute_result"
    }
   ],
   "source": [
    "cell_bio_net = cell_biology.retrieveNetwork()\n",
    "cell_bio_net"
   ]
  },
  {
   "cell_type": "markdown",
   "id": "7a5085a7",
   "metadata": {},
   "source": [
    "<h1>Multiple starting categories</h1>"
   ]
  },
  {
   "cell_type": "code",
   "execution_count": 34,
   "id": "d3209e13",
   "metadata": {},
   "outputs": [],
   "source": [
    "init_categories = [\n",
    "    'Category:Cell biology',\n",
    "    'Category:Pathology',\n",
    "    'Category:Synthetic biology',\n",
    "    'Category:Microbiology',\n",
    "    'Category:Molecular biology',\n",
    "    'Category:Biochemistry',\n",
    "    'Category:Genetics',\n",
    "    'Category:Developmental biology',\n",
    "    'Category:Immunology',\n",
    "    'Category:Physiology']"
   ]
  },
  {
   "cell_type": "code",
   "execution_count": 35,
   "id": "6d4d955b",
   "metadata": {},
   "outputs": [
    {
     "name": "stdout",
     "output_type": "stream",
     "text": [
      "Start crawling categories starting at Category:Physiology.\n",
      "Scanned on level 1: found 190 pages and 25 subcategories, 1 skipped.\n"
     ]
    }
   ],
   "source": [
    "knb = KnowledgeNet() \n",
    "for init in init_categories:\n",
    "    knb.startScan(start_at=init,skip_rules=skip_rules,depth=1)"
   ]
  },
  {
   "cell_type": "code",
   "execution_count": 38,
   "id": "2dff7392",
   "metadata": {},
   "outputs": [
    {
     "name": "stdout",
     "output_type": "stream",
     "text": [
      "Category:Cell biology (14 C ; 510 A)\n",
      "Category:Pathology (19 C ; 104 A)\n",
      "Category:Synthetic biology (2 C ; 62 A)\n",
      "Category:Microbiology (21 C ; 155 A)\n",
      "Category:Molecular biology (16 C ; 672 A)\n",
      "Category:Biochemistry (34 C ; 248 A)\n",
      "Category:Genetics (43 C ; 343 A)\n",
      "Category:Developmental biology (12 C ; 156 A)\n",
      "Category:Immunology (24 C ; 294 A)\n",
      "Category:Physiology (26 C ; 211 A)\n"
     ]
    }
   ],
   "source": [
    "knb.printCategoryTree(0)"
   ]
  },
  {
   "cell_type": "code",
   "execution_count": null,
   "id": "57bb0cdc",
   "metadata": {},
   "outputs": [],
   "source": []
  }
 ],
 "metadata": {
  "kernelspec": {
   "display_name": "tf",
   "language": "python",
   "name": "tf"
  },
  "language_info": {
   "codemirror_mode": {
    "name": "ipython",
    "version": 3
   },
   "file_extension": ".py",
   "mimetype": "text/x-python",
   "name": "python",
   "nbconvert_exporter": "python",
   "pygments_lexer": "ipython3",
   "version": "3.9.12"
  }
 },
 "nbformat": 4,
 "nbformat_minor": 5
}
