{
 "cells": [
  {
   "cell_type": "code",
   "execution_count": 1,
   "id": "2221fa64",
   "metadata": {},
   "outputs": [],
   "source": [
    "from WikiCrawler import KnowledgeNet"
   ]
  },
  {
   "cell_type": "code",
   "execution_count": 2,
   "id": "4fc43c9b",
   "metadata": {},
   "outputs": [],
   "source": [
    "skip_rules = [\".* about .*\",\".*logists.*\",\".*People with.*\",\".*Deaths from.*\",\".*stub.*\",\".*journals.*\",\".*Society.*\"]"
   ]
  },
  {
   "cell_type": "code",
   "execution_count": 16,
   "id": "f1ef839a",
   "metadata": {},
   "outputs": [
    {
     "name": "stdout",
     "output_type": "stream",
     "text": [
      "Start crawling categories starting at Category:Cell biology.\n",
      "Scanned on level 1: found 510 pages and 14 subcategories, 5 skipped.\n"
     ]
    }
   ],
   "source": [
    "cell_biology = KnowledgeNet(start_at='Category:Cell biology',depth=1,skip_rules=skip_rules,\n",
    "    skip=['Category:Fertilizers','Category:Soaps','Category:Centenarians'],verbose=1)"
   ]
  },
  {
   "cell_type": "code",
   "execution_count": 17,
   "id": "063b3c4c",
   "metadata": {},
   "outputs": [
    {
     "name": "stdout",
     "output_type": "stream",
     "text": [
      "Start crawling categories starting at Category:Developmental biology.\n",
      "Scanned on level 1: found 145 pages and 11 subcategories, 7 skipped.\n"
     ]
    },
    {
     "data": {
      "text/plain": [
       "True"
      ]
     },
     "execution_count": 17,
     "metadata": {},
     "output_type": "execute_result"
    }
   ],
   "source": [
    "cell_biology.startScan(start_at='Category:Developmental biology',depth=1,skip_rules=skip_rules,\n",
    "    skip=[],verbose=1)"
   ]
  },
  {
   "cell_type": "code",
   "execution_count": 18,
   "id": "ed26152d",
   "metadata": {},
   "outputs": [
    {
     "name": "stdout",
     "output_type": "stream",
     "text": [
      "Category:Cell biology (14 C ; 510 A)\n",
      "    Cell anatomy (0 C ; 0 A)\n",
      "    Cell adhesion (0 C ; 0 A)\n",
      "    Cell culture (0 C ; 0 A)\n",
      "    Cell imaging (0 C ; 0 A)\n",
      "    Cell movement (0 C ; 0 A)\n",
      "    Cell signaling (0 C ; 0 A)\n",
      "    Cells (0 C ; 0 A)\n",
      "    Cellular processes (0 C ; 0 A)\n",
      "    Cytopathology (0 C ; 0 A)\n",
      "    Extracellular matrix (0 C ; 0 A)\n",
      "    Glycobiology (0 C ; 0 A)\n",
      "    Membrane biology (0 C ; 0 A)\n",
      "    Proteins (0 C ; 0 A)\n",
      "    Tissue engineering (0 C ; 0 A)\n",
      "Category:Developmental biology (12 C ; 156 A)\n",
      "    Cell culture (0 C ; 0 A)\n",
      "    Evolutionary developmental biology (0 C ; 0 A)\n",
      "    Animal developmental biology (0 C ; 0 A)\n",
      "    Cloning (0 C ; 0 A)\n",
      "    Developmental genes and proteins (0 C ; 0 A)\n",
      "    Developmental genetics (0 C ; 0 A)\n",
      "    Germ layers (0 C ; 0 A)\n",
      "    Morphogens (0 C ; 0 A)\n",
      "    Plant development (0 C ; 0 A)\n",
      "    Regenerative biomedicine (0 C ; 0 A)\n",
      "    Reproductive toxicants (0 C ; 0 A)\n",
      "    Sexual reproduction (0 C ; 0 A)\n"
     ]
    }
   ],
   "source": [
    "cell_biology.printCategoryTree(2)"
   ]
  },
  {
   "cell_type": "code",
   "execution_count": 19,
   "id": "e04504de",
   "metadata": {},
   "outputs": [
    {
     "name": "stdout",
     "output_type": "stream",
     "text": [
      "Start crawling categories starting at Category:Cell biology.\n",
      "Scanned on level 1: found 510 pages and 14 subcategories, 5 skipped.\n",
      "Start crawling categories starting at Category:Developmental biology.\n",
      "Scanned on level 1: found 145 pages and 11 subcategories, 7 skipped.\n"
     ]
    }
   ],
   "source": [
    "cell_biology.printProtocol(1)"
   ]
  },
  {
   "cell_type": "code",
   "execution_count": 20,
   "id": "fd9de782",
   "metadata": {},
   "outputs": [
    {
     "data": {
      "text/plain": [
       "['Symmetry in biology',\n",
       " 'Teloblast',\n",
       " 'Temporal plasticity',\n",
       " 'Teratology',\n",
       " 'Theca',\n",
       " 'Tip growth',\n",
       " 'V0-morph',\n",
       " 'V1-morph',\n",
       " 'Window of opportunity',\n",
       " 'Zygote']"
      ]
     },
     "execution_count": 20,
     "metadata": {},
     "output_type": "execute_result"
    }
   ],
   "source": [
    "list(cell_biology.articles.keys())[-10:]"
   ]
  },
  {
   "cell_type": "code",
   "execution_count": 21,
   "id": "0b7c2545",
   "metadata": {},
   "outputs": [
    {
     "data": {
      "text/plain": [
       "'Category:Developmental biology'"
      ]
     },
     "execution_count": 21,
     "metadata": {},
     "output_type": "execute_result"
    }
   ],
   "source": [
    "cell_biology.articles[\"Zygote\"]"
   ]
  },
  {
   "cell_type": "code",
   "execution_count": 22,
   "id": "c0a927c5",
   "metadata": {},
   "outputs": [
    {
     "data": {
      "text/plain": [
       "['Category:Developmental biology']"
      ]
     },
     "execution_count": 22,
     "metadata": {},
     "output_type": "execute_result"
    }
   ],
   "source": [
    "cell_biology.retriveCategories(\"Zygote\")"
   ]
  },
  {
   "cell_type": "code",
   "execution_count": 23,
   "id": "2b0ba9e9",
   "metadata": {},
   "outputs": [
    {
     "data": {
      "text/plain": [
       "655"
      ]
     },
     "execution_count": 23,
     "metadata": {},
     "output_type": "execute_result"
    }
   ],
   "source": [
    "len(cell_biology.articles)"
   ]
  },
  {
   "cell_type": "code",
   "execution_count": 24,
   "id": "a1f0c617",
   "metadata": {},
   "outputs": [
    {
     "name": "stdout",
     "output_type": "stream",
     "text": [
      "Collecting: [==============================] 100 % (655/655 pages)\n",
      " running: 4 min 32 s ; remaining: 0.0 s s \n",
      " 63712 links 15 skipped\n"
     ]
    }
   ],
   "source": [
    "cell_biology.collect(links=True,text=False,ignore=['Category:Living people'])"
   ]
  },
  {
   "cell_type": "code",
   "execution_count": 25,
   "id": "3d303958",
   "metadata": {},
   "outputs": [],
   "source": [
    "cell_bio_net = cell_biology.retriveNetwork()"
   ]
  },
  {
   "cell_type": "code",
   "execution_count": 34,
   "id": "d3209e13",
   "metadata": {},
   "outputs": [],
   "source": [
    "init_categories = [\n",
    "    'Category:Cell biology',\n",
    "    'Category:Pathology',\n",
    "    'Category:Synthetic biology',\n",
    "    'Category:Microbiology',\n",
    "    'Category:Molecular biology',\n",
    "    'Category:Biochemistry',\n",
    "    'Category:Genetics',\n",
    "    'Category:Developmental biology',\n",
    "    'Category:Immunology',\n",
    "    'Category:Physiology']"
   ]
  },
  {
   "cell_type": "code",
   "execution_count": 35,
   "id": "6d4d955b",
   "metadata": {},
   "outputs": [
    {
     "name": "stdout",
     "output_type": "stream",
     "text": [
      "Start crawling categories starting at Category:Physiology.\n",
      "Scanned on level 1: found 190 pages and 25 subcategories, 1 skipped.\n"
     ]
    }
   ],
   "source": [
    "knb = KnowledgeNet() \n",
    "for init in init_categories:\n",
    "    knb.startScan(start_at=init,skip_rules=skip_rules,depth=1)"
   ]
  },
  {
   "cell_type": "code",
   "execution_count": 38,
   "id": "2dff7392",
   "metadata": {},
   "outputs": [
    {
     "name": "stdout",
     "output_type": "stream",
     "text": [
      "Category:Cell biology (14 C ; 510 A)\n",
      "Category:Pathology (19 C ; 104 A)\n",
      "Category:Synthetic biology (2 C ; 62 A)\n",
      "Category:Microbiology (21 C ; 155 A)\n",
      "Category:Molecular biology (16 C ; 672 A)\n",
      "Category:Biochemistry (34 C ; 248 A)\n",
      "Category:Genetics (43 C ; 343 A)\n",
      "Category:Developmental biology (12 C ; 156 A)\n",
      "Category:Immunology (24 C ; 294 A)\n",
      "Category:Physiology (26 C ; 211 A)\n"
     ]
    }
   ],
   "source": [
    "knb.printCategoryTree(0)"
   ]
  },
  {
   "cell_type": "code",
   "execution_count": null,
   "id": "57bb0cdc",
   "metadata": {},
   "outputs": [],
   "source": []
  }
 ],
 "metadata": {
  "kernelspec": {
   "display_name": "tf",
   "language": "python",
   "name": "tf"
  },
  "language_info": {
   "codemirror_mode": {
    "name": "ipython",
    "version": 3
   },
   "file_extension": ".py",
   "mimetype": "text/x-python",
   "name": "python",
   "nbconvert_exporter": "python",
   "pygments_lexer": "ipython3",
   "version": "3.9.12"
  }
 },
 "nbformat": 4,
 "nbformat_minor": 5
}
