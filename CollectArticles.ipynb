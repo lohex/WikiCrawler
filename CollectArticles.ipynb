{
 "cells": [
  {
   "cell_type": "markdown",
   "id": "d05d08ff",
   "metadata": {},
   "source": [
    "<h1>Basic example</h1>"
   ]
  },
  {
   "cell_type": "code",
   "execution_count": 1,
   "id": "6c29acb6",
   "metadata": {},
   "outputs": [
    {
     "name": "stdout",
     "output_type": "stream",
     "text": [
      "Start crawling categories starting at Category:Cell biology.\n",
      "Scanned on level 1: found 510 pages and 14 subcategories, 5 skipped.\n",
      "Scanned on level 2: found 1339 pages and 85 subcategories, 4 skipped.\n",
      "Collected 1849 articles from 15 categories.\n"
     ]
    },
    {
     "data": {
      "text/plain": [
       "True"
      ]
     },
     "execution_count": 1,
     "metadata": {},
     "output_type": "execute_result"
    }
   ],
   "source": [
    "from WikiCrawler import KnowledgeNet\n",
    "\n",
    "cell_biology = KnowledgeNet()\n",
    "cell_biology.setSkipRule([\n",
    "    \".* about .*\",\".*logists.*\",\".*People with.*\",\".*Deaths from.*\",\n",
    "    \".*stub.*\",\".*journals.*\",\".*Society.*\"])\n",
    "\n",
    "cell_biology.startScan(start_at='Category:Cell biology',depth=2,\n",
    "    skip=['Category:Fertilizers','Category:Soaps','Category:Centenarians'],verbose=1)"
   ]
  },
  {
   "cell_type": "code",
   "execution_count": 1,
   "id": "81620750",
   "metadata": {
    "scrolled": false
   },
   "outputs": [
    {
     "name": "stdout",
     "output_type": "stream",
     "text": [
      "Collecting: [==============================] 100 % (20/20 pages)\n",
      " running: 11.0 s ; remaining: 0.0 s s \n",
      " 2971 links 264 lines of text 3 skipped\n"
     ]
    }
   ],
   "source": [
    "cell_biology.collect(text=True,archive_path='cell_biology',limit=20)"
   ]
  },
  {
   "cell_type": "markdown",
   "id": "6eb88e0d",
   "metadata": {},
   "source": [
    "<p>The process of creation of a KnowledgeNet can be traced back by printProtocol()</p>"
   ]
  },
  {
   "cell_type": "code",
   "execution_count": 6,
   "id": "e04504de",
   "metadata": {},
   "outputs": [
    {
     "name": "stdout",
     "output_type": "stream",
     "text": [
      "Appended 7 new skip_rules.\n",
      "Start crawling categories starting at Category:Cell biology.\n",
      "Scanned on level 1: found 510 pages and 14 subcategories, 5 skipped.\n",
      "Scanned on level 2: found 1339 pages and 85 subcategories, 4 skipped.\n",
      "Scanned on level 3: found 3800 pages and 247 subcategories, 13 skipped.\n"
     ]
    }
   ],
   "source": [
    "cell_biology.printProtocol(1)"
   ]
  },
  {
   "cell_type": "markdown",
   "id": "04f79970",
   "metadata": {},
   "source": [
    "<h1>Analysis of results</h1>"
   ]
  },
  {
   "cell_type": "markdown",
   "id": "58f8ecfa",
   "metadata": {},
   "source": [
    "<p>Using printCategory(2), all 14 subcategories are listed (but not their subcategories respectively)</p>"
   ]
  },
  {
   "cell_type": "code",
   "execution_count": 6,
   "id": "ed26152d",
   "metadata": {},
   "outputs": [
    {
     "name": "stdout",
     "output_type": "stream",
     "text": [
      "Category:Cell biology (14 C ; 510 A)\n",
      "    Cell anatomy (7 C ; 105 A)\n",
      "    Cell adhesion (1 C ; 5 A)\n",
      "    Cell culture (5 C ; 34 A)\n",
      "    Cell imaging (1 C ; 51 A)\n",
      "    Cell movement (2 C ; 32 A)\n",
      "    Cell signaling (23 C ; 119 A)\n",
      "    Cells (6 C ; 50 A)\n",
      "    Cellular processes (11 C ; 115 A)\n",
      "    Cytopathology (1 C ; 16 A)\n",
      "    Extracellular matrix (5 C ; 9 A)\n",
      "    Glycobiology (7 C ; 25 A)\n",
      "    Membrane biology (7 C ; 175 A)\n",
      "    Proteins (12 C ; 711 A)\n",
      "    Tissue engineering (1 C ; 41 A)\n"
     ]
    }
   ],
   "source": [
    "cell_biology.printCategoryTree(2)"
   ]
  },
  {
   "cell_type": "markdown",
   "id": "c5f52576",
   "metadata": {},
   "source": [
    "<p>Using retrieveCategories() all parent categories of the category \"Cytokines\" are listed. </p>"
   ]
  },
  {
   "cell_type": "code",
   "execution_count": 21,
   "id": "cb53b07a",
   "metadata": {},
   "outputs": [
    {
     "data": {
      "text/plain": [
       "['Category:Cell biology',\n",
       " 'Category:Cellular processes',\n",
       " 'Category:Cell communication',\n",
       " 'Category:Cell signaling',\n",
       " 'Category:Proteins',\n",
       " 'Category:Signal transduction',\n",
       " 'Category:Proteins by function']"
      ]
     },
     "execution_count": 21,
     "metadata": {},
     "output_type": "execute_result"
    }
   ],
   "source": [
    "cell_biology.retrieveCategories('Category:Cytokines')"
   ]
  },
  {
   "cell_type": "markdown",
   "id": "94ed8f86",
   "metadata": {},
   "source": [
    "<p>Cytokines occure multiple times in the subcategories of \"Cell biology\". \n",
    "\n",
    " - Cell biology\n",
    "    - Cell signaling\n",
    "       * Cytokines\n",
    "       - Signal transduction\n",
    "          * Cytokines\n",
    "    - Proteins\n",
    "       - Proteins by functoin\n",
    "          * Cytokines\n",
    "        \n",
    "</p>"
   ]
  },
  {
   "cell_type": "code",
   "execution_count": 40,
   "id": "994d420a",
   "metadata": {},
   "outputs": [
    {
     "data": {
      "text/plain": [
       "['Category:Cell signaling',\n",
       " 'Category:Signal transduction',\n",
       " 'Category:Proteins by function']"
      ]
     },
     "execution_count": 40,
     "metadata": {},
     "output_type": "execute_result"
    }
   ],
   "source": [
    "cell_biology.category_tree['Category:Cytokines']"
   ]
  },
  {
   "cell_type": "markdown",
   "id": "006aabc4",
   "metadata": {},
   "source": [
    "<p>The direct categories can be found from the category_tree</p>"
   ]
  },
  {
   "cell_type": "code",
   "execution_count": 52,
   "id": "7b602eaf",
   "metadata": {},
   "outputs": [
    {
     "name": "stdout",
     "output_type": "stream",
     "text": [
      "107\n"
     ]
    }
   ],
   "source": [
    "def allArticlesOf(self,base_cateogory):\n",
    "    compelte_categories = {a:self.retrieveCategories(a) for a in self.articles.keys()}\n",
    "    return [a for a,cat in compelte_categories.items() if base_cateogiry in cat]\n",
    "\n",
    "direct = allArticlesOf(cell_biology,'Category:Cytokines')\n",
    "print(len(direct))"
   ]
  },
  {
   "cell_type": "markdown",
   "id": "98a61e67",
   "metadata": {},
   "source": [
    "<h1>The Network</h1>\n",
    "\n"
   ]
  },
  {
   "cell_type": "code",
   "execution_count": 2,
   "id": "a1f0c617",
   "metadata": {},
   "outputs": [
    {
     "name": "stdout",
     "output_type": "stream",
     "text": [
      "Collecting: [==============================] 100 % (100/100 pages)\n",
      " running: 1 min 17 s ; remaining: 0.0 s s \n",
      " 10333 links 2.22 KB of text 22 skipped\n"
     ]
    }
   ],
   "source": [
    "cell_biology.collect(links=True,text=True,limit=100,ignore=['Category:Living people'])"
   ]
  },
  {
   "cell_type": "markdown",
   "id": "0494ac9c",
   "metadata": {},
   "source": [
    "<p>The links between the pages impy a network and the frequency how often other articles point to a specific article implies a measure of importance.</p>"
   ]
  },
  {
   "cell_type": "code",
   "execution_count": 3,
   "id": "3d303958",
   "metadata": {},
   "outputs": [],
   "source": [
    "cell_bio_net = cell_biology.retrieveNetwork()"
   ]
  },
  {
   "cell_type": "code",
   "execution_count": 4,
   "id": "9c14ed7f",
   "metadata": {},
   "outputs": [
    {
     "data": {
      "text/plain": [
       "{'Cell (biology)': 27,\n",
       " 'Cell culture': 9,\n",
       " 'Cell signaling': 9,\n",
       " 'Cell biology': 7,\n",
       " 'Beta oxidation': 3,\n",
       " 'Cell-mediated immunity': 3,\n",
       " 'Autophagosome': 2,\n",
       " 'Cell theory': 2,\n",
       " 'Cell physiology': 2,\n",
       " 'Cellular adaptation': 2,\n",
       " 'Basophil': 2,\n",
       " 'Callus (cell biology)': 2,\n",
       " '7-Aminoactinomycin D': 2,\n",
       " 'CAMP-dependent pathway': 2,\n",
       " 'Cell damage': 2,\n",
       " 'Cell cortex': 1,\n",
       " 'Cell polarity': 1,\n",
       " 'Cell disruption': 1,\n",
       " 'Basophilia': 1,\n",
       " 'Alpha oxidation': 1,\n",
       " 'Bioenergetics': 1,\n",
       " 'Amoeba': 1,\n",
       " 'Cell potency': 1,\n",
       " 'Cell therapy': 1,\n",
       " '3D cell culturing by magnetic levitation': 1,\n",
       " 'Chemically defined medium': 1,\n",
       " 'Calcium pump': 1,\n",
       " 'Cell unroofing': 1,\n",
       " 'Apical constriction': 1,\n",
       " 'Cell culture assay': 1,\n",
       " 'Acrasin': 1,\n",
       " 'Cell-free system': 1,\n",
       " 'Cell-free protein synthesis': 1,\n",
       " 'CellProfiler': 1,\n",
       " 'CellCognition': 1}"
      ]
     },
     "execution_count": 4,
     "metadata": {},
     "output_type": "execute_result"
    }
   ],
   "source": [
    "cell_bio_net"
   ]
  },
  {
   "cell_type": "code",
   "execution_count": 5,
   "id": "94beb742",
   "metadata": {},
   "outputs": [
    {
     "data": {
      "text/plain": [
       "{'Cell membrane': 57,\n",
       " 'Protein': 51,\n",
       " 'Apoptosis': 46,\n",
       " 'Mitosis': 41,\n",
       " 'Cytoplasm': 39,\n",
       " 'DNA': 39,\n",
       " 'Help:Maintenance template removal': 39,\n",
       " 'Cell nucleus': 38,\n",
       " 'Enzyme': 35,\n",
       " 'Medical Subject Headings': 33,\n",
       " 'Adenosine triphosphate': 31,\n",
       " 'Bacteria': 31,\n",
       " 'Cancer': 31,\n",
       " 'Cell cycle': 30,\n",
       " 'Inflammation': 28,\n",
       " 'Cytoskeleton': 26,\n",
       " 'Eukaryote': 26,\n",
       " 'Immune system': 26,\n",
       " 'Help:Referencing for beginners': 26,\n",
       " 'Chromosome': 25,\n",
       " 'Cytosol': 25,\n",
       " 'Organelle': 25,\n",
       " 'Extracellular matrix': 24,\n",
       " 'Phagocytosis': 24,\n",
       " 'Cell wall': 23,\n",
       " 'Red blood cell': 23,\n",
       " 'Cytokine': 23,\n",
       " 'Gene': 22,\n",
       " 'Genome': 22,\n",
       " 'Actin': 21,\n",
       " 'Endoplasmic reticulum': 21,\n",
       " 'Gene expression': 21,\n",
       " 'RNA': 21,\n",
       " 'Biochemistry': 20,\n",
       " 'Metabolism': 20,\n",
       " 'Amino acid': 19,\n",
       " 'Cell division': 19,\n",
       " 'Chemotaxis': 19,\n",
       " 'DNA replication': 19,\n",
       " 'Tissue (biology)': 19,\n",
       " 'Wayback Machine': 19,\n",
       " 'Help:Authority control': 19,\n",
       " 'Golgi apparatus': 18,\n",
       " 'Microtubule': 18,\n",
       " 'Mitochondrion': 18,\n",
       " 'Plasma membrane': 18,\n",
       " 'Portal:Biology': 18,\n",
       " 'Necrosis': 18,\n",
       " 'Template:Cite journal': 18,\n",
       " 'Dendritic cell': 18,\n",
       " 'Neutrophil': 18,\n",
       " 'Glucose': 17,\n",
       " 'Meiosis': 17,\n",
       " 'Microbiology': 17,\n",
       " 'Molecular biology': 17,\n",
       " 'Organism': 17,\n",
       " 'Receptor (biochemistry)': 17,\n",
       " 'Virus': 17,\n",
       " 'Protein Data Bank': 17,\n",
       " 'Antigen': 17,\n",
       " 'Monocyte': 17,\n",
       " 'Cellular differentiation': 16,\n",
       " 'Escherichia coli': 16,\n",
       " 'Fungus': 16,\n",
       " 'Lipid': 16,\n",
       " 'Mitochondria': 16,\n",
       " 'Category:Articles with LCCN identifiers': 16,\n",
       " 'Calcium': 16,\n",
       " 'DNA repair': 15,\n",
       " 'Lysosome': 15,\n",
       " 'Mutation': 15,\n",
       " 'Translation (biology)': 15,\n",
       " 'Category:Articles with J9U identifiers': 15,\n",
       " 'In vitro': 15,\n",
       " 'PH': 15,\n",
       " 'T cell': 15,\n",
       " 'Phosphorylation': 15,\n",
       " 'Lymphocyte': 15,\n",
       " 'Blood plasma': 15,\n",
       " 'Platelet': 15,\n",
       " 'Animal': 14,\n",
       " 'Cilium': 14,\n",
       " 'Developmental biology': 14,\n",
       " 'Vesicle (biology and chemistry)': 14,\n",
       " 'Homeostasis': 14,\n",
       " 'Morphology (biology)': 14,\n",
       " 'Saccharomyces cerevisiae': 14,\n",
       " 'Hematopoietic stem cell': 14,\n",
       " 'White blood cell': 14,\n",
       " 'Eukaryotic': 13,\n",
       " 'Genetics': 13,\n",
       " 'Lipid bilayer': 13,\n",
       " 'Ribosome': 13,\n",
       " 'Chromatin': 13,\n",
       " 'B cell': 13,\n",
       " 'Transcription factor': 13,\n",
       " 'Ligand': 13,\n",
       " 'Antibody': 13,\n",
       " 'Phospholipid': 13,\n",
       " 'Bone marrow': 13,\n",
       " 'Osteoclast': 13,\n",
       " 'Phagocyte': 13,\n",
       " 'Biology': 12,\n",
       " 'Cytokinesis': 12,\n",
       " 'Endocytosis': 12,\n",
       " 'Ion': 12,\n",
       " 'Oxygen': 12,\n",
       " 'Protozoa': 12,\n",
       " 'Telomere': 12,\n",
       " 'Ion channel': 12,\n",
       " 'Mass spectrometry': 12,\n",
       " 'Pathology': 12,\n",
       " 'Programmed cell death': 12,\n",
       " 'Locus (genetics)': 12,\n",
       " 'Pathogen': 12,\n",
       " 'Allergy': 12,\n",
       " 'Potassium': 12,\n",
       " 'Granulocyte': 12,\n",
       " 'Haematopoiesis': 12,\n",
       " 'Microglia': 12,\n",
       " 'Infection': 12,\n",
       " 'S phase': 12,\n",
       " 'Archaea': 11,\n",
       " 'Centrosome': 11,\n",
       " 'Chromatography': 11,\n",
       " 'Fibroblast': 11,\n",
       " 'Flagellum': 11,\n",
       " 'Granule (cell biology)': 11,\n",
       " 'Hormone': 11,\n",
       " 'Neuron': 11,\n",
       " 'Plant': 11,\n",
       " 'Terminologia Histologica': 11,\n",
       " 'Vacuole': 11,\n",
       " 'G protein-coupled receptor': 11,\n",
       " 'Water': 11,\n",
       " 'Membrane protein': 11,\n",
       " 'Autoimmunity': 11,\n",
       " 'Enzyme inhibitor': 11,\n",
       " 'Post-translational modification': 11,\n",
       " 'Major histocompatibility complex': 11,\n",
       " 'Osmosis': 11,\n",
       " 'Drosophila': 11,\n",
       " 'Natural killer cell': 11,\n",
       " 'Leukocyte extravasation': 11,\n",
       " 'Cholesterol': 11,\n",
       " 'Angiogenesis': 11,\n",
       " 'Category:CS1 maint: multiple names: authors list': 11,\n",
       " 'Signal transduction': 11,\n",
       " 'Macrophages': 11,\n",
       " 'Proteins': 11,\n",
       " 'Bioinformatics': 10,\n",
       " 'Biotechnology': 10,\n",
       " 'Carbohydrate': 10,\n",
       " 'Cellular respiration': 10,\n",
       " 'Centriole': 10,\n",
       " 'Chloroplast': 10,\n",
       " 'Genetic engineering': 10,\n",
       " 'Microtubules': 10,\n",
       " 'Molecule': 10,\n",
       " 'Multicellular': 10,\n",
       " 'Photosynthesis': 10,\n",
       " 'Plasmid': 10,\n",
       " 'Transcription (genetics)': 10,\n",
       " 'Zygote': 10,\n",
       " 'Autophagy': 10,\n",
       " 'Glycoprotein': 10,\n",
       " 'Gram-positive bacteria': 10,\n",
       " 'In vivo': 10,\n",
       " 'Monoclonal antibody': 10,\n",
       " 'Nucleic acid': 10,\n",
       " 'Physiology': 10,\n",
       " 'Help:CS1 errors': 10,\n",
       " 'Cyclic adenosine monophosphate': 10,\n",
       " 'Immune tolerance': 10,\n",
       " 'Hydrolysis': 10,\n",
       " 'Insulin': 10,\n",
       " 'Cell migration': 10,\n",
       " 'Yeast': 10,\n",
       " 'Human leukocyte antigen': 10,\n",
       " 'Blood': 10,\n",
       " 'Kupffer cell': 10,\n",
       " 'Megakaryocyte': 10,\n",
       " 'Myeloblast': 10,\n",
       " 'Myelopoiesis': 10,\n",
       " 'Promyelocyte': 10,\n",
       " 'Immunohistochemistry': 10,\n",
       " 'Stem cell': 10,\n",
       " 'Transmembrane protein': 10,\n",
       " 'Cell surface receptor': 10,\n",
       " 'Epithelium': 10,\n",
       " 'Somatic cell': 10,\n",
       " 'Basal body': 9,\n",
       " 'Caenorhabditis elegans': 9,\n",
       " 'Cell growth': 9,\n",
       " 'Endosymbiont': 9,\n",
       " 'Foundational Model of Anatomy': 9,\n",
       " 'Latin': 9,\n",
       " 'Macromolecule': 9,\n",
       " 'Membrane potential': 9,\n",
       " 'Microfilament': 9,\n",
       " 'Nuclear envelope': 9,\n",
       " 'Nucleolus': 9,\n",
       " 'Peroxisome': 9,\n",
       " 'Plastid': 9,\n",
       " 'Prokaryote': 9,\n",
       " 'Proteasome': 9,\n",
       " 'Stem cells': 9,\n",
       " 'Cell death': 9,\n",
       " 'Green fluorescent protein': 9,\n",
       " 'Immunology': 9,\n",
       " 'Medical microbiology': 9,\n",
       " 'P53': 9,\n",
       " 'Proteolysis': 9,\n",
       " 'InterPro': 9,\n",
       " 'Serine': 9,\n",
       " 'Pathogenesis': 9,\n",
       " 'Base pair': 9,\n",
       " 'Embryogenesis': 9,\n",
       " 'Human genome': 9,\n",
       " 'Oxidative stress': 9,\n",
       " 'Wikidata': 9,\n",
       " 'Chemical formula': 9,\n",
       " 'Molar mass': 9,\n",
       " 'PubChem': 9,\n",
       " 'Standard state': 9,\n",
       " 'Mammal': 9,\n",
       " 'Phosphate': 9,\n",
       " 'Microbiological culture': 9,\n",
       " 'Complement system': 9,\n",
       " 'Alveolar macrophage': 9,\n",
       " 'Band cell': 9,\n",
       " 'CFU-Baso': 9,\n",
       " 'CFU-DL': 9,\n",
       " 'CFU-E': 9,\n",
       " 'CFU-Eos': 9,\n",
       " 'CFU-GEMM': 9,\n",
       " 'CFU-GM': 9,\n",
       " 'CFU-Mast': 9,\n",
       " 'CFU-Meg': 9,\n",
       " 'Epithelioid cell': 9,\n",
       " 'Erythropoiesis': 9,\n",
       " 'Extramedullary hematopoiesis': 9,\n",
       " 'Granulopoiesis': 9,\n",
       " 'Hematopoietic system': 9,\n",
       " 'Langerhans cell': 9,\n",
       " 'Megakaryoblast': 9,\n",
       " 'Megakaryocyte–erythroid progenitor cell': 9,\n",
       " 'Metamyelocyte': 9,\n",
       " 'Monoblast': 9,\n",
       " 'Monocytopoiesis': 9,\n",
       " 'Mononuclear phagocyte system': 9,\n",
       " 'Myelocyte': 9,\n",
       " 'Myeloid tissue': 9,\n",
       " 'Myelomonocyte': 9,\n",
       " 'Normoblast': 9,\n",
       " 'Nucleated red blood cell': 9,\n",
       " 'Proerythroblast': 9,\n",
       " 'Promegakaryocyte': 9,\n",
       " 'Promonocyte': 9,\n",
       " 'Proteoglycan': 9,\n",
       " 'Reticulocyte': 9,\n",
       " 'Thrombopoiesis': 9,\n",
       " 'Touton giant cell': 9,\n",
       " 'Template:Myeloid blood cells and plasma': 9,\n",
       " 'Template talk:Myeloid blood cells and plasma': 9,\n",
       " 'Eicosanoid': 9,\n",
       " 'Morphogenesis': 9,\n",
       " 'Secretion': 9,\n",
       " 'Growth factor': 9,\n",
       " 'G1 phase': 9,\n",
       " 'Electron microscope': 9,\n",
       " 'Neoplasm': 9,\n",
       " 'Ligand (biochemistry)': 9,\n",
       " 'Collagen': 9,\n",
       " 'Endothelium': 9,\n",
       " 'Abiogenesis': 8,\n",
       " 'Axoneme': 8,\n",
       " 'Biological engineering': 8,\n",
       " 'Biosynthesis': 8,\n",
       " 'Centrifugation': 8,\n",
       " 'Chromoplast': 8,\n",
       " 'Cloning': 8,\n",
       " 'Embryology': 8,\n",
       " 'Endomembrane system': 8,\n",
       " 'Endosome': 8,\n",
       " 'Exosome (vesicle)': 8,\n",
       " 'Filtration': 8,\n",
       " 'Fimbria (bacteriology)': 8,\n",
       " 'Gerontoplast': 8,\n",
       " 'Homologous recombination': 8,\n",
       " 'Hydrophobic': 8,\n",
       " 'Leucoplast': 8,\n",
       " 'Microorganism': 8,\n",
       " 'National Center for Biotechnology Information': 8,\n",
       " 'Oxidative phosphorylation': 8,\n",
       " 'Polysaccharide': 8,\n",
       " 'Protist': 8,\n",
       " 'Tubulin': 8,\n",
       " 'Virology': 8,\n",
       " 'Category:Articles with NKC identifiers': 8,\n",
       " 'Cyclin-dependent kinase': 8,\n",
       " 'Diffusion': 8,\n",
       " 'Electron transport chain': 8,\n",
       " 'Evolution': 8,\n",
       " 'Histology': 8,\n",
       " 'Polyclonal B cell response': 8,\n",
       " 'Somatic hypermutation': 8,\n",
       " 'Taxonomy (biology)': 8,\n",
       " 'Transmission electron microscopy': 8,\n",
       " 'Vertebrate': 8,\n",
       " 'Slime mold': 8,\n",
       " 'Myosin': 8,\n",
       " 'Arginine': 8,\n",
       " 'Glycosylation': 8,\n",
       " \"Alzheimer's disease\": 8,\n",
       " 'Arachidonic acid': 8,\n",
       " 'Ensembl genome database project': 8,\n",
       " 'Entrez': 8,\n",
       " 'Gene ontology': 8,\n",
       " 'Mouse Genome Informatics': 8,\n",
       " 'Orthologs': 8,\n",
       " 'UniProt': 8,\n",
       " 'CAS Registry Number': 8,\n",
       " 'Antigenic variation': 8,\n",
       " 'Epitope': 8,\n",
       " 'Liver': 8,\n",
       " 'Carbon dioxide': 8,\n",
       " 'Template:Cite web': 8,\n",
       " 'Hepatocytes': 8,\n",
       " 'Allergen': 8,\n",
       " 'Antigen presentation': 8,\n",
       " 'Hypersensitivity': 8,\n",
       " 'Opsonin': 8,\n",
       " 'Ions': 8,\n",
       " 'Integrin': 8,\n",
       " 'Leukotriene': 8,\n",
       " 'Prostaglandin': 8,\n",
       " 'Aneuploidy': 8,\n",
       " 'Polymerization': 8,\n",
       " 'Growth medium': 8,\n",
       " 'Pigment': 8,\n",
       " 'Wound healing': 8,\n",
       " 'Gap junction': 8,\n",
       " 'Cytokines': 8,\n",
       " 'NF-κB': 8,\n",
       " 'Cytochrome P450': 8,\n",
       " 'Acrosome': 7,\n",
       " 'Cell adhesion': 7,\n",
       " 'Chromosomes': 7,\n",
       " 'Cytoplasmic inclusion': 7,\n",
       " 'Embryo': 7,\n",
       " 'Eukaryotes': 7,\n",
       " 'Fermentation': 7,\n",
       " 'Filopodium': 7,\n",
       " 'Gamete': 7,\n",
       " 'Histone': 7,\n",
       " 'Hydrogenosome': 7,\n",
       " 'Intermediate filament': 7,\n",
       " 'Lamellipodium': 7,\n",
       " 'Magnetosome': 7,\n",
       " 'Microtubule organizing center': 7,\n",
       " 'Organ (anatomy)': 7,\n",
       " 'Osmotic pressure': 7,\n",
       " 'Phagosome': 7,\n",
       " 'Prokaryotic cytoskeleton': 7,\n",
       " 'Protein biosynthesis': 7,\n",
       " 'Spindle pole body': 7,\n",
       " 'Spliceosome': 7,\n",
       " 'Tissue culture': 7,\n",
       " 'Vault (organelle)': 7,\n",
       " 'Category:Articles with BNF identifiers': 7,\n",
       " 'Category:Articles with GND identifiers': 7,\n",
       " 'Citric acid cycle': 7,\n",
       " 'Computational biology': 7,\n",
       " 'Ecology': 7,\n",
       " 'Enzyme assay': 7,\n",
       " 'Histopathology': 7,\n",
       " 'Microscopy': 7,\n",
       " 'Neuroscience': 7,\n",
       " 'Proteomics': 7,\n",
       " 'Protistology': 7,\n",
       " 'Receptor tyrosine kinase': 7,\n",
       " 'Synthetic biology': 7,\n",
       " 'Systems biology': 7,\n",
       " 'Protein kinase C': 7,\n",
       " 'Caspase': 7,\n",
       " 'Clonal deletion': 7,\n",
       " 'Cysteine': 7,\n",
       " 'Oncogene': 7,\n",
       " 'PDBsum': 7,\n",
       " 'Pfam': 7,\n",
       " 'Mesenchymal stem cell': 7,\n",
       " 'Idiotype': 7,\n",
       " 'Rho family of GTPases': 7,\n",
       " 'Threonine': 7,\n",
       " 'Ubiquitin': 7,\n",
       " 'Peptide': 7,\n",
       " 'Ensembl': 7,\n",
       " 'Epoxide': 7,\n",
       " 'GeneCards': 7,\n",
       " 'Gene nomenclature': 7,\n",
       " 'HomoloGene': 7,\n",
       " 'Hydroxyl': 7,\n",
       " 'Laboratory mouse': 7,\n",
       " 'PubMed': 7,\n",
       " 'Acetyl-CoA': 7,\n",
       " 'ChEBI': 7,\n",
       " 'Fluorescence': 7,\n",
       " 'International Chemical Identifier': 7,\n",
       " 'JSmol': 7,\n",
       " 'Simplified molecular-input line-entry system': 7,\n",
       " 'Multinucleate': 7,\n",
       " 'Parasitism': 7,\n",
       " 'Tonicity': 7,\n",
       " 'Antibodies': 7,\n",
       " 'T helper cell': 7,\n",
       " 'Model organism': 7,\n",
       " 'Vesicle (biology)': 7,\n",
       " 'Neurons': 7,\n",
       " 'Adaptive immune system': 7,\n",
       " 'Antigen-presenting cell': 7,\n",
       " 'Co-stimulation': 7,\n",
       " 'Immunity (medical)': 7,\n",
       " 'Immunoglobulin class switching': 7,\n",
       " 'Paratope': 7,\n",
       " 'Polyclonal antibodies': 7,\n",
       " 'Alpha helix': 7,\n",
       " 'Amino acids': 7,\n",
       " 'Drosophila melanogaster': 7,\n",
       " 'Anatomical terms of microanatomy': 7,\n",
       " 'Histamine': 7,\n",
       " 'Microscope': 7,\n",
       " 'Innate immune system': 7,\n",
       " 'Glycolysis': 7,\n",
       " 'Nucleotide': 7,\n",
       " 'Polyunsaturated fatty acid': 7,\n",
       " 'Bone': 7,\n",
       " 'Active transport': 7,\n",
       " 'Receptor-mediated endocytosis': 7,\n",
       " 'Embryonic stem cell': 7,\n",
       " 'Metastasis': 7,\n",
       " 'Protein domain': 7,\n",
       " 'Cyclin': 7,\n",
       " 'Integral membrane protein': 7,\n",
       " 'Neurotransmitter': 7,\n",
       " 'Phospholipase C': 7,\n",
       " 'Chemokine': 7,\n",
       " 'Phenotype': 7,\n",
       " 'HeLa': 7,\n",
       " 'Tumor': 7,\n",
       " 'Promoter (genetics)': 7,\n",
       " 'G2 phase': 7,\n",
       " 'Disease': 7,\n",
       " 'Hypertrophy': 7,\n",
       " 'Immunofluorescence': 7,\n",
       " 'Pyknosis': 7,\n",
       " 'Exocytosis': 7,\n",
       " 'Anaphase': 7,\n",
       " 'Metaphase': 7,\n",
       " 'Cell proliferation': 7,\n",
       " 'Reactive oxygen species': 7,\n",
       " 'Leukotriene B4': 7,\n",
       " 'Cyclooxygenase': 7,\n",
       " 'Algae': 6,\n",
       " 'Amyloplast': 6,\n",
       " 'Biological membrane': 6,\n",
       " 'Chemical engineering': 6,\n",
       " 'Chlorophyll': 6,\n",
       " 'Colony (biology)': 6,\n",
       " 'DNA damage (naturally occurring)': 6,\n",
       " 'Elaioplast': 6,\n",
       " 'Electron microscopy': 6,\n",
       " 'Fungi': 6,\n",
       " 'Gene therapy': 6,\n",
       " 'Glyoxysome': 6,\n",
       " 'Hemoglobin': 6,\n",
       " 'High-performance liquid chromatography': 6,\n",
       " 'Hydrolase': 6,\n",
       " 'Hydrophilic': 6,\n",
       " 'Life': 6,\n",
       " 'MRNA': 6,\n",
       " 'Melanosome': 6,\n",
       " 'Metabolite': 6,\n",
       " 'Microbody': 6,\n",
       " 'Myofibril': 6,\n",
       " 'Nuclear magnetic resonance': 6,\n",
       " 'Omics': 6,\n",
       " 'Parenthesome': 6,\n",
       " 'Proteinoplast': 6,\n",
       " 'Pseudopodium': 6,\n",
       " 'Radial spoke': 6,\n",
       " 'Regulation of gene expression': 6,\n",
       " 'Sedimentation': 6,\n",
       " 'Spectroscopy': 6,\n",
       " 'Tannosome': 6,\n",
       " 'Undulipodium': 6,\n",
       " 'Weibel–Palade body': 6,\n",
       " 'Template:Cellular structures': 6,\n",
       " 'Template talk:Cellular structures': 6,\n",
       " 'Category:Biotechnology': 6,\n",
       " 'Cell cycle checkpoint': 6,\n",
       " 'Circulatory system': 6,\n",
       " 'Clinical chemistry': 6,\n",
       " 'Energy': 6,\n",
       " 'Epigenetics': 6,\n",
       " 'Gene knockout': 6,\n",
       " 'Genomics': 6,\n",
       " 'Gram-negative bacteria': 6,\n",
       " 'Natural selection': 6,\n",
       " 'Reproduction': 6,\n",
       " 'Structural biology': 6,\n",
       " 'Systematics': 6,\n",
       " 'Plasmodium (life cycle)': 6,\n",
       " 'Dynamin': 6,\n",
       " 'Integrins': 6,\n",
       " 'Fas receptor': 6,\n",
       " 'Signal transducing adaptor protein': 6,\n",
       " 'Enzyme Commission number': 6,\n",
       " 'Cadherin': 6,\n",
       " 'CD4': 6,\n",
       " 'Leukemia': 6,\n",
       " 'Lymphoma': 6,\n",
       " 'Retrovirus': 6,\n",
       " 'Rheumatoid arthritis': 6,\n",
       " 'G protein': 6,\n",
       " 'Methionine': 6,\n",
       " 'Nicotinamide adenine dinucleotide': 6,\n",
       " 'Linoleic acid': 6,\n",
       " 'Mendelian Inheritance in Man': 6,\n",
       " 'Fatty acid synthesis': 6,\n",
       " 'ChemSpider': 6,\n",
       " 'Ancient Greek': 6,\n",
       " 'Ciliate': 6,\n",
       " 'Microbial ecology': 6,\n",
       " 'Microvillus': 6,\n",
       " 'Pseudopodia': 6,\n",
       " 'White blood cells': 6,\n",
       " 'Help:IPA/English': 6,\n",
       " 'Kinase': 6,\n",
       " 'Phosphoinositide 3-kinase': 6,\n",
       " 'Biofilm': 6,\n",
       " 'Lipopolysaccharide': 6,\n",
       " 'Affinity maturation': 6,\n",
       " 'Alloimmunity': 6,\n",
       " 'Allotype (immunology)': 6,\n",
       " 'Autoantibody': 6,\n",
       " 'Central tolerance': 6,\n",
       " 'Clonal anergy': 6,\n",
       " 'Clonal selection': 6,\n",
       " 'Conformational epitope': 6,\n",
       " 'Cross-reactivity': 6,\n",
       " 'Hapten': 6,\n",
       " 'Humoral immunity': 6,\n",
       " 'Immune complex': 6,\n",
       " 'Immune privilege': 6,\n",
       " 'Immune tolerance in pregnancy': 6,\n",
       " 'Immunodeficiency': 6,\n",
       " 'Immunogen': 6,\n",
       " 'Immunogenetics': 6,\n",
       " 'Isotype (immunology)': 6,\n",
       " 'Junctional diversity': 6,\n",
       " 'Linear epitope': 6,\n",
       " 'Microantibody': 6,\n",
       " 'Mimotope': 6,\n",
       " 'Peripheral tolerance': 6,\n",
       " 'Superantigen': 6,\n",
       " 'V(D)J recombination': 6,\n",
       " 'Template:Lymphocytic immune system': 6,\n",
       " 'Template talk:Lymphocytic immune system': 6,\n",
       " 'Chloride': 6,\n",
       " 'Sodium': 6,\n",
       " 'Binding site': 6,\n",
       " 'Intracellular': 6,\n",
       " 'Nature (journal)': 6,\n",
       " 'Connective tissue': 6,\n",
       " 'Staining': 6,\n",
       " 'Template:Cite book': 6,\n",
       " 'Cofactor (biochemistry)': 6,\n",
       " 'NADH': 6,\n",
       " 'Caveolae': 6,\n",
       " 'Transporter Classification Database': 6,\n",
       " 'X-ray crystallography': 6,\n",
       " 'Genes': 6,\n",
       " 'Intron': 6,\n",
       " 'Kidney': 6,\n",
       " 'Action potential': 6,\n",
       " 'Induced stem cells': 6,\n",
       " 'Progenitor cell': 6,\n",
       " 'Spore': 6,\n",
       " 'CCR5': 6,\n",
       " 'CXCR4': 6,\n",
       " 'JAK-STAT signaling pathway': 6,\n",
       " 'Lymph node': 6,\n",
       " 'Monocytes': 6,\n",
       " 'Spleen': 6,\n",
       " 'Mitotic': 6,\n",
       " 'Cancer cell': 6,\n",
       " 'Enzymes': 6,\n",
       " 'Immune response': 6,\n",
       " 'Medicine': 6,\n",
       " 'Growth factors': 6,\n",
       " 'Temperature': 6,\n",
       " 'Transcription (biology)': 6,\n",
       " 'Cyclin E': 6,\n",
       " 'DAPI': 6,\n",
       " 'G0 phase': 6,\n",
       " 'Fat necrosis': 6,\n",
       " 'Fluorescence in situ hybridization': 6,\n",
       " 'Hemosiderin': 6,\n",
       " 'Hypoxia (medical)': 6,\n",
       " 'Ischemia': 6,\n",
       " 'Karyorrhexis': 6,\n",
       " 'Melanin': 6,\n",
       " 'Metaplasia': 6,\n",
       " 'Steatosis': 6,\n",
       " 'Cell junction': 6,\n",
       " 'Spindle apparatus': 6,\n",
       " 'MAPK/ERK pathway': 6,\n",
       " 'Synapse': 6,\n",
       " 'Myocardial infarction': 6,\n",
       " 'Cell adhesion molecule': 6,\n",
       " 'Biomarker': 6,\n",
       " 'Heterochromatin': 6,\n",
       " 'Lung': 6,\n",
       " 'Ploidy': 6,\n",
       " 'Fluorophore': 6,\n",
       " 'HIV': 6,\n",
       " 'Docosahexaenoic acid': 6,\n",
       " 'John R. Falck': 6,\n",
       " 'Allele': 5,\n",
       " 'Anatomical terminology': 5,\n",
       " 'Bacillus subtilis': 5,\n",
       " 'Bacterial capsule': 5,\n",
       " 'Bacterium': 5,\n",
       " 'Biofabrication': 5,\n",
       " 'Biomedical engineering': 5,\n",
       " 'Catabolism': 5,\n",
       " 'Crystallization': 5,\n",
       " 'Cultured meat': 5,\n",
       " 'Cyanobacteria': 5,\n",
       " 'Diploid': 5,\n",
       " 'Domain (biology)': 5,\n",
       " 'Ecosystem': 5,\n",
       " 'Electrophoresis': 5,\n",
       " 'Extrachromosomal DNA': 5,\n",
       " 'Extraction (chemistry)': 5,\n",
       " 'Human Genome Project': 5,\n",
       " 'Hybridoma technology': 5,\n",
       " 'Keratin': 5,\n",
       " 'Micrometre': 5,\n",
       " 'Mitotic spindle': 5,\n",
       " 'Molecular genetics': 5,\n",
       " 'Multicellular organism': 5,\n",
       " 'National Institutes of Health': 5,\n",
       " 'Pharmacogenomics': 5,\n",
       " 'Prokaryotic': 5,\n",
       " 'Selective breeding': 5,\n",
       " 'Semipermeable membrane': 5,\n",
       " 'Unicellular': 5,\n",
       " 'Category:Articles with NDL identifiers': 5,\n",
       " 'Anatomy': 5,\n",
       " 'Astrobiology': 5,\n",
       " 'Atom': 5,\n",
       " 'Bacterial cell structure': 5,\n",
       " 'Biogeography': 5,\n",
       " 'Biomechanics': 5,\n",
       " 'Biophysics': 5,\n",
       " 'Biosemiotics': 5,\n",
       " 'Cytogenetics': 5,\n",
       " 'Earliest known life forms': 5,\n",
       " 'Epidemiology': 5,\n",
       " 'Evolutionary biology': 5,\n",
       " 'Marine biology': 5,\n",
       " 'Monomer': 5,\n",
       " 'Nervous system': 5,\n",
       " 'Organic compound': 5,\n",
       " 'Paleontology': 5,\n",
       " 'Paracrine signaling': 5,\n",
       " 'Pharmacology': 5,\n",
       " 'Phylogenetics': 5,\n",
       " 'Polymer': 5,\n",
       " 'Polymerase chain reaction': 5,\n",
       " 'Sociobiology': 5,\n",
       " 'Western blot': 5,\n",
       " 'Zoology': 5,\n",
       " 'Category:Stem cells': 5,\n",
       " 'DNM1': 5,\n",
       " 'DNM2': 5,\n",
       " 'DNM3': 5,\n",
       " 'B cells': 5,\n",
       " 'Active site': 5,\n",
       " 'Swiss-Prot': 5,\n",
       " 'Myocyte': 5,\n",
       " 'Osteoblast': 5,\n",
       " 'Skin': 5,\n",
       " 'Breast cancer': 5,\n",
       " 'Lymphocytes': 5,\n",
       " 'Acylation': 5,\n",
       " 'Aspartate': 5,\n",
       " 'Carcinogenesis': 5,\n",
       " 'Glutamate': 5,\n",
       " 'Lysine': 5,\n",
       " 'Methylation': 5,\n",
       " 'Proline': 5,\n",
       " 'Protease': 5,\n",
       " \"Parkinson's disease\": 5,\n",
       " 'Lipoxygenase': 5,\n",
       " 'Fatty acid': 5,\n",
       " 'Triglyceride': 5,\n",
       " 'Amoebozoa': 5,\n",
       " 'Apicoplast': 5,\n",
       " 'Biological life cycle': 5,\n",
       " 'Choanoflagellate': 5,\n",
       " 'Contractile vacuole': 5,\n",
       " 'Dinokaryon': 5,\n",
       " 'Fertilization': 5,\n",
       " 'Homology (biology)': 5,\n",
       " 'Mitosome': 5,\n",
       " 'Phycobilisome': 5,\n",
       " 'Sexual reproduction': 5,\n",
       " 'Parasite': 5,\n",
       " 'Nanotechnology': 5,\n",
       " 'Help:Link': 5,\n",
       " 'Cytoskeletal': 5,\n",
       " 'Xenopus': 5,\n",
       " 'Preferred IUPAC name': 5,\n",
       " 'Axon': 5,\n",
       " 'Phosphatase': 5,\n",
       " 'N-Acetylglucosamine': 5,\n",
       " 'Pathogenic bacteria': 5,\n",
       " 'Species': 5,\n",
       " 'Senescence': 5,\n",
       " 'CD117': 5,\n",
       " 'Coagulation': 5,\n",
       " 'Eosinophils': 5,\n",
       " 'Organ system': 5,\n",
       " 'ATP synthase': 5,\n",
       " 'Central nervous system': 5,\n",
       " 'Mevalonate pathway': 5,\n",
       " 'Omega oxidation': 5,\n",
       " 'Prion': 5,\n",
       " 'Adenosine diphosphate': 5,\n",
       " 'ADP ribosylation factor': 5,\n",
       " 'Caveolin': 5,\n",
       " 'SYT1': 5,\n",
       " 'Small GTPase': 5,\n",
       " 'Synaptic vesicle': 5,\n",
       " 'Nucleosome': 5,\n",
       " 'Brain': 5,\n",
       " 'Transduction (genetics)': 5,\n",
       " 'Calcium in biology': 5,\n",
       " 'Electrochemical gradient': 5,\n",
       " 'Skeletal muscle': 5,\n",
       " 'Adult stem cell': 5,\n",
       " 'Chimera (genetics)': 5,\n",
       " 'Induced pluripotent stem cell': 5,\n",
       " 'Neural stem cell': 5,\n",
       " 'Petri dish': 5,\n",
       " 'Stem cell controversy': 5,\n",
       " 'Stem cell therapy': 5,\n",
       " 'Guanosine triphosphate': 5,\n",
       " 'C-terminus': 5,\n",
       " 'CCR2': 5,\n",
       " 'Hormone receptor': 5,\n",
       " 'Receptor modulator': 5,\n",
       " 'Tumor necrosis factor receptor 1': 5,\n",
       " 'Centromere': 5,\n",
       " 'Gametes': 5,\n",
       " 'Sperm': 5,\n",
       " 'Lipids': 5,\n",
       " 'Astrocyte': 5,\n",
       " 'Trypsin': 5,\n",
       " 'Cyclin A': 5,\n",
       " 'DNA damage': 5,\n",
       " 'Ethanol': 5,\n",
       " 'Propidium iodide': 5,\n",
       " 'Retinoblastoma protein': 5,\n",
       " 'Anatomical pathology': 5,\n",
       " 'Atrophy': 5,\n",
       " 'Autopsy': 5,\n",
       " 'Blood bank': 5,\n",
       " 'Caseous necrosis': 5,\n",
       " 'Cause (medicine)': 5,\n",
       " 'Clinical pathology': 5,\n",
       " 'Coagulative necrosis': 5,\n",
       " 'Dysplasia': 5,\n",
       " 'Fibrinoid necrosis': 5,\n",
       " 'Forensic pathology': 5,\n",
       " 'Gangrene': 5,\n",
       " 'Glandular metaplasia': 5,\n",
       " 'Gross processing': 5,\n",
       " 'Hematopathology': 5,\n",
       " 'Hemodynamics': 5,\n",
       " 'Hyperplasia': 5,\n",
       " 'Immunoassay': 5,\n",
       " 'Immunopathology': 5,\n",
       " 'Karyolysis': 5,\n",
       " 'Lipochrome': 5,\n",
       " 'Lipofuscin': 5,\n",
       " 'Liquefactive necrosis': 5,\n",
       " 'Molecular pathology': 5,\n",
       " 'Myocytolysis': 5,\n",
       " 'Oral and maxillofacial pathology': 5,\n",
       " 'Serology': 5,\n",
       " 'Squamous metaplasia': 5,\n",
       " 'Surgical pathology': 5,\n",
       " 'Transfusion medicine': 5,\n",
       " 'Template:Pathology': 5,\n",
       " 'Template talk:Pathology': 5,\n",
       " 'Carbon monoxide': 5,\n",
       " 'Sonication': 5,\n",
       " 'Autocrine signalling': 5,\n",
       " 'Passive transport': 5,\n",
       " 'Pheromone': 5,\n",
       " 'Wnt signaling pathway': 5,\n",
       " 'Desmosome': 5,\n",
       " 'Leukocytes': 5,\n",
       " 'Neutrophils': 5,\n",
       " 'Diabetes': 5,\n",
       " 'Prophase': 5,\n",
       " 'Telophase': 5,\n",
       " 'Fibrin': 5,\n",
       " 'Adipose tissue': 5,\n",
       " 'Adherens junction': 5,\n",
       " 'Connexin': 5,\n",
       " 'Tight junction': 5,\n",
       " 'Human': 5,\n",
       " 'Interleukin 8': 5,\n",
       " 'Diglyceride': 5,\n",
       " 'Atherosclerosis': 5,\n",
       " 'Chemokines': 5,\n",
       " 'Paramecium': 5,\n",
       " 'Category:Use dmy dates from April 2017': 5,\n",
       " 'CYP4A11': 5,\n",
       " 'Lipase': 5,\n",
       " 'Thromboxane A2': 5,\n",
       " 'Interstitial fluid': 5,\n",
       " 'Cis–trans isomerism': 5,\n",
       " 'Ageing': 4,\n",
       " 'Animal cell culture': 4,\n",
       " 'Animals': 4,\n",
       " 'Binary fission': 4,\n",
       " 'Biobased economy': 4,\n",
       " 'Bioelectronics': 4,\n",
       " 'Biological organisation': 4,\n",
       " 'Biological system': 4,\n",
       " 'Biome': 4,\n",
       " 'Biomedicine': 4,\n",
       " 'Biomimetics': 4,\n",
       " 'Bionic architecture': 4,\n",
       " 'Biopharmaceutical': 4,\n",
       " 'Bioreactor': 4,\n",
       " 'Biorobotics': 4,\n",
       " 'Biosphere': 4,\n",
       " 'Biotechnology industrial park': 4,\n",
       " 'Biotechnology law': 4,\n",
       " 'Biotechnology products': 4,\n",
       " 'Blood cell': 4,\n",
       " 'Brown algae': 4,\n",
       " 'Carotenoid': 4,\n",
       " 'Cell envelope': 4,\n",
       " 'Cell immunity': 4,\n",
       " 'Cellulose': 4,\n",
       " 'Chemoattractant': 4,\n",
       " 'Colors of biotechnology': 4,\n",
       " 'Competitions and prizes in biotechnology': 4,\n",
       " 'Continuous stirred-tank reactor': 4,\n",
       " 'Cytotoxicity': 4,\n",
       " 'DSTR': 4,\n",
       " 'Edmund Beecher Wilson': 4,\n",
       " 'Environmental biotechnology': 4,\n",
       " 'Euglenid': 4,\n",
       " 'Fat': 4,\n",
       " 'Fed-batch culture': 4,\n",
       " 'Flagella': 4,\n",
       " 'Genetically modified organism': 4,\n",
       " 'Genotype': 4,\n",
       " 'Green Revolution': 4,\n",
       " 'Haploid': 4,\n",
       " 'History of biotechnology': 4,\n",
       " 'Index of biotechnology articles': 4,\n",
       " 'Industrial biotechnology': 4,\n",
       " 'Kidney dialysis': 4,\n",
       " 'Lamellipodia': 4,\n",
       " 'Lipid raft': 4,\n",
       " 'List of biotechnology articles': 4,\n",
       " 'List of largest biomedical companies by market capitalization': 4,\n",
       " 'Lysosomes': 4,\n",
       " 'Messenger RNA': 4,\n",
       " 'Microbial biodegradation': 4,\n",
       " 'Mining': 4,\n",
       " 'Nanobiotechnology': 4,\n",
       " 'Optical microscope': 4,\n",
       " 'Organ (biology)': 4,\n",
       " 'Peptidoglycan': 4,\n",
       " 'Pharmaceutical company': 4,\n",
       " 'Pilus': 4,\n",
       " 'Plant cell': 4,\n",
       " 'Plug flow reactor model': 4,\n",
       " 'Population': 4,\n",
       " 'Red algae': 4,\n",
       " 'Reproductive cloning': 4,\n",
       " 'Robert Hooke': 4,\n",
       " 'Rudolf Virchow': 4,\n",
       " 'Symbiosis': 4,\n",
       " 'Therapeutic cloning': 4,\n",
       " 'Timeline of biotechnology': 4,\n",
       " 'Unicellular organism': 4,\n",
       " 'Template:Biotechnology': 4,\n",
       " 'Template talk:Biotechnology': 4,\n",
       " 'Adaptation': 4,\n",
       " 'Autocrine signaling': 4,\n",
       " 'Bacillus (shape)': 4,\n",
       " 'Biostatistics': 4,\n",
       " 'Botany': 4,\n",
       " 'Catalysis': 4,\n",
       " 'Cervical cancer': 4,\n",
       " 'Chemical substance': 4,\n",
       " 'Chronobiology': 4,\n",
       " 'Cognitive biology': 4,\n",
       " 'Confocal microscopy': 4,\n",
       " 'Conservation biology': 4,\n",
       " 'DNA microarray': 4,\n",
       " 'Ecological genetics': 4,\n",
       " 'Encyclopædia Britannica Eleventh Edition': 4,\n",
       " 'Endocrine system': 4,\n",
       " 'Evolutionary developmental biology': 4,\n",
       " 'Fluorescence microscope': 4,\n",
       " 'Gel electrophoresis': 4,\n",
       " 'Genetic drift': 4,\n",
       " 'Glycolipid': 4,\n",
       " 'History of biology': 4,\n",
       " 'History of molecular biology': 4,\n",
       " 'Human biology': 4,\n",
       " 'Index of molecular biology articles': 4,\n",
       " 'Kingdom (biology)': 4,\n",
       " 'Lipidology': 4,\n",
       " 'Mathematical and theoretical biology': 4,\n",
       " 'Mendelian inheritance': 4,\n",
       " 'Mycology': 4,\n",
       " 'Nobel Prize in Physiology or Medicine': 4,\n",
       " 'Northern blot': 4,\n",
       " 'Outline of biology': 4,\n",
       " 'Parasitology': 4,\n",
       " 'Phycology': 4,\n",
       " 'Post-transcriptional modification': 4,\n",
       " 'Protein purification': 4,\n",
       " 'Quantum biology': 4,\n",
       " 'Timeline of biology and organic chemistry': 4,\n",
       " 'Toxicology': 4,\n",
       " 'Transformation (genetics)': 4,\n",
       " 'Vector (molecular biology)': 4,\n",
       " 'Viruses': 4,\n",
       " 'Xenobiology': 4,\n",
       " 'Category:Molecular biology': 4,\n",
       " 'Ankyrin': 4,\n",
       " 'Extracellular signal-regulated kinases': 4,\n",
       " 'Spectrin': 4,\n",
       " 'Autoimmune disease': 4,\n",
       " 'T-cell': 4,\n",
       " 'Catalytic triad': 4,\n",
       " 'HUGO Gene Nomenclature Committee': 4,\n",
       " 'Online Mendelian Inheritance in Man': 4,\n",
       " 'Protein structure': 4,\n",
       " 'Ras subfamily': 4,\n",
       " 'RefSeq': 4,\n",
       " 'Adipocyte': 4,\n",
       " 'Epinephrine': 4,\n",
       " 'Human body': 4,\n",
       " 'CD137': 4,\n",
       " 'CD3 (immunology)': 4,\n",
       " 'Chemotherapy': 4,\n",
       " 'Melanoma': 4,\n",
       " 'T-cell receptor': 4,\n",
       " 'Type I diabetes': 4,\n",
       " 'Asparagine': 4,\n",
       " 'Deamination': 4,\n",
       " 'Flavin group': 4,\n",
       " 'Gi alpha subunit': 4,\n",
       " 'Glutamine': 4,\n",
       " 'Heterotrimeric G protein': 4,\n",
       " 'Histidine': 4,\n",
       " 'Ribose': 4,\n",
       " 'Transferase': 4,\n",
       " 'Tryptophan': 4,\n",
       " 'Tumor necrosis factors': 4,\n",
       " 'Tyrosine': 4,\n",
       " 'Ubiquitination': 4,\n",
       " 'Amyotrophic lateral sclerosis': 4,\n",
       " 'Inclusion bodies': 4,\n",
       " '9-Hydroxyoctadecadienoic acid': 4,\n",
       " 'Chromosome 17 (human)': 4,\n",
       " 'Mutations': 4,\n",
       " 'Peroxidase': 4,\n",
       " 'Stereoisomer': 4,\n",
       " 'Coenzyme A': 4,\n",
       " 'Lipid metabolism': 4,\n",
       " 'Oncology': 4,\n",
       " 'Staining (biology)': 4,\n",
       " 'Unique Ingredient Identifier': 4,\n",
       " ...}"
      ]
     },
     "execution_count": 5,
     "metadata": {},
     "output_type": "execute_result"
    }
   ],
   "source": [
    "cell_biology.outside"
   ]
  },
  {
   "cell_type": "code",
   "execution_count": 15,
   "id": "f68f7ad4",
   "metadata": {},
   "outputs": [
    {
     "data": {
      "text/plain": [
       "{'Cell biology': 81,\n",
       " 'Articles with short description': 40,\n",
       " 'Short description is different from Wikidata': 21,\n",
       " 'All articles with unsourced statements': 19,\n",
       " 'Short description matches Wikidata': 18,\n",
       " 'All articles needing additional references': 9,\n",
       " 'Webarchive template wayback links': 8,\n",
       " 'Cell signaling': 7,\n",
       " 'CS1: long volume value': 7,\n",
       " 'Biotechnology': 7,\n",
       " 'Cell culture': 7,\n",
       " 'Articles with J9U identifiers': 6,\n",
       " 'Articles with LCCN identifiers': 6,\n",
       " 'Articles with GND identifiers': 5,\n",
       " 'Human cells': 5,\n",
       " 'Molecular biology techniques': 5,\n",
       " 'Articles with BNF identifiers': 4,\n",
       " 'Articles with NKC identifiers': 4,\n",
       " 'CS1 errors: missing periodical': 4,\n",
       " 'Molecular biology': 4,\n",
       " 'Biochemistry': 4,\n",
       " 'Articles with NDL identifiers': 3,\n",
       " 'Cell anatomy': 3,\n",
       " 'Commons category link is on Wikidata': 3,\n",
       " 'Post-translational modification': 3,\n",
       " 'Protein pages needing a picture': 3,\n",
       " 'Signal transduction': 3,\n",
       " 'Fatty acids': 3,\n",
       " 'Genes on human chromosome 17': 3,\n",
       " 'Genetics': 3,\n",
       " 'Immune system': 3,\n",
       " 'Cell communication': 3,\n",
       " 'Articles with unsourced statements from May 2020': 3,\n",
       " 'Granulocytes': 3,\n",
       " 'Cell cycle': 3,\n",
       " 'Wikipedia articles incorporating text from the United States National Library of Medicine': 2,\n",
       " 'Wikipedia indefinitely semi-protected pages': 2,\n",
       " 'Articles using small message boxes': 2,\n",
       " 'Cell culture techniques': 2,\n",
       " 'Metabolic pathways': 2,\n",
       " 'Articles containing unverified chemical infoboxes': 2,\n",
       " 'Pages using collapsible list with both background and text-align in titlestyle': 2,\n",
       " 'Immunology': 2,\n",
       " 'Macrophages': 2,\n",
       " 'Phagocytes': 2,\n",
       " 'All orphaned articles': 2,\n",
       " 'CS1 maint: url-status': 2,\n",
       " 'Nanotechnology': 2,\n",
       " 'Bacteriology': 2,\n",
       " 'All articles lacking in-text citations': 2,\n",
       " 'All articles with bare URLs for citations': 2,\n",
       " 'Articles with unsourced statements from October 2019': 2,\n",
       " 'CS1 errors: missing title': 2,\n",
       " 'CS1: Julian–Gregorian uncertainty': 2,\n",
       " 'CS1 German-language sources (de)': 2,\n",
       " 'Articles with unsourced statements from April 2018': 2,\n",
       " 'Biophysics': 2,\n",
       " 'All articles with incomplete citations': 2,\n",
       " 'Biology theories': 2,\n",
       " 'All articles with dead external links': 2,\n",
       " 'Articles with permanently dead external links': 2,\n",
       " 'All articles that are too technical': 2,\n",
       " 'Transport proteins': 2,\n",
       " 'CS1 maint: multiple names: authors list': 2,\n",
       " 'Synthetic biology': 2,\n",
       " 'Developmental biology': 2,\n",
       " 'All articles containing potentially dated statements': 2,\n",
       " 'Stem cells': 2,\n",
       " 'Free software programmed in Python': 2,\n",
       " 'Image processing software': 2,\n",
       " 'Microscopy': 2,\n",
       " 'Official website different in Wikidata and Wikipedia': 2}"
      ]
     },
     "execution_count": 15,
     "metadata": {},
     "output_type": "execute_result"
    }
   ],
   "source": [
    "categories = {a:[c[9:] for c in cat] for a,cat in cell_biology.article_categories.items()}\n",
    "\n",
    "mentioned = {}\n",
    "for art_cats in categories.values():\n",
    "    for cat in art_cats:\n",
    "        if not cat in mentioned.keys():\n",
    "            mentioned[cat] = 0\n",
    "        mentioned[cat] += 1\n",
    "{cat:n for cat,n in sorted(mentioned.items(),key=lambda x:-x[1]) if n > 1}"
   ]
  },
  {
   "cell_type": "markdown",
   "id": "5c2aca26",
   "metadata": {},
   "source": [
    "<h1>Save & Load</h1>\n",
    "\n",
    "<p>The object with its content can be saved and loaded in later sessions.</p>"
   ]
  },
  {
   "cell_type": "code",
   "execution_count": 8,
   "id": "a69451a2",
   "metadata": {},
   "outputs": [
    {
     "name": "stdout",
     "output_type": "stream",
     "text": [
      "Saved 20 member variables to cell_biology.pkl\n"
     ]
    }
   ],
   "source": [
    "cell_biology.save('cell_biology.pkl')"
   ]
  },
  {
   "cell_type": "code",
   "execution_count": 1,
   "id": "d0173ac0",
<<<<<<< HEAD
=======
   "metadata": {},
   "outputs": [
    {
     "name": "stdout",
     "output_type": "stream",
     "text": [
      "Loaded 20 member variables from cell_biology.pkl\n"
     ]
    }
   ],
   "source": [
    "from WikiCrawler import KnowledgeNet\n",
    "cell_bio_twin = KnowledgeNet.load('cell_biology.pkl')"
   ]
  },
  {
   "cell_type": "code",
   "execution_count": 2,
   "id": "95256eac",
>>>>>>> e9cc4d4dc0eaea50bed75bf2172f7e98b8fcf32f
   "metadata": {},
   "outputs": [
    {
     "name": "stdout",
     "output_type": "stream",
     "text": [
<<<<<<< HEAD
      "Loaded 20 member variables from cell_biology.pkl\n"
=======
      "<class 'NotADirectoryError'>\n",
      "[Errno 20] Not a directory: 'cell_biology.pkl/Basophil activation.txt'\n",
      "Network problem loading \"Basophil activation\"........................."
     ]
    },
    {
     "ename": "KeyboardInterrupt",
     "evalue": "",
     "output_type": "error",
     "traceback": [
      "\u001b[0;31m---------------------------------------------------------------------------\u001b[0m",
      "\u001b[0;31mNotADirectoryError\u001b[0m                        Traceback (most recent call last)",
      "File \u001b[0;32m~/Train/bioWords/WikiCrawler.py:319\u001b[0m, in \u001b[0;36mKnowledgeNet.collectArticle\u001b[0;34m(self, page, links, text, page_obj, categories)\u001b[0m\n\u001b[1;32m    318\u001b[0m     \u001b[38;5;28mself\u001b[39m\u001b[38;5;241m.\u001b[39mpages[page] \u001b[38;5;241m=\u001b[39m \u001b[38;5;28mlen\u001b[39m(text)\n\u001b[0;32m--> 319\u001b[0m     \u001b[38;5;28;43mself\u001b[39;49m\u001b[38;5;241;43m.\u001b[39;49m\u001b[43msaveText\u001b[49m\u001b[43m(\u001b[49m\u001b[43mpage\u001b[49m\u001b[43m,\u001b[49m\u001b[43mtext\u001b[49m\u001b[43m,\u001b[49m\u001b[43mcategories\u001b[49m\u001b[43m)\u001b[49m\n\u001b[1;32m    320\u001b[0m \u001b[38;5;28;01melse\u001b[39;00m:\n",
      "File \u001b[0;32m~/Train/bioWords/WikiCrawler.py:363\u001b[0m, in \u001b[0;36mKnowledgeNet.saveText\u001b[0;34m(self, page, lines, categories)\u001b[0m\n\u001b[1;32m    362\u001b[0m file_path \u001b[38;5;241m=\u001b[39m os\u001b[38;5;241m.\u001b[39mpath\u001b[38;5;241m.\u001b[39mjoin(\u001b[38;5;28mself\u001b[39m\u001b[38;5;241m.\u001b[39msave_path, page)\n\u001b[0;32m--> 363\u001b[0m \u001b[38;5;28;01mwith\u001b[39;00m \u001b[38;5;28;43mopen\u001b[39;49m\u001b[43m(\u001b[49m\u001b[43mfile_path\u001b[49m\u001b[38;5;241;43m+\u001b[39;49m\u001b[38;5;124;43m'\u001b[39;49m\u001b[38;5;124;43m.txt\u001b[39;49m\u001b[38;5;124;43m'\u001b[39;49m\u001b[43m,\u001b[49m\u001b[38;5;124;43m'\u001b[39;49m\u001b[38;5;124;43mw\u001b[39;49m\u001b[38;5;124;43m'\u001b[39;49m\u001b[43m)\u001b[49m \u001b[38;5;28;01mas\u001b[39;00m fp:\n\u001b[1;32m    364\u001b[0m     \u001b[38;5;28;01mfor\u001b[39;00m l,line \u001b[38;5;129;01min\u001b[39;00m \u001b[38;5;28menumerate\u001b[39m(print_lines):\n",
      "\u001b[0;31mNotADirectoryError\u001b[0m: [Errno 20] Not a directory: 'cell_biology.pkl/Basophil activation.txt'",
      "\nDuring handling of the above exception, another exception occurred:\n",
      "\u001b[0;31mKeyboardInterrupt\u001b[0m                         Traceback (most recent call last)",
      "Cell \u001b[0;32mIn[2], line 1\u001b[0m\n\u001b[0;32m----> 1\u001b[0m \u001b[43mcell_bio_twin\u001b[49m\u001b[38;5;241;43m.\u001b[39;49m\u001b[43mcollect\u001b[49m\u001b[43m(\u001b[49m\u001b[43mtext\u001b[49m\u001b[38;5;241;43m=\u001b[39;49m\u001b[38;5;28;43;01mTrue\u001b[39;49;00m\u001b[43m)\u001b[49m\n",
      "File \u001b[0;32m~/Train/bioWords/WikiCrawler.py:261\u001b[0m, in \u001b[0;36mKnowledgeNet.collect\u001b[0;34m(self, links, text, ignore, ignore_rules, save_path, zipped, save_interval, limit, verbose)\u001b[0m\n\u001b[1;32m    259\u001b[0m     skpd \u001b[38;5;241m+\u001b[39m\u001b[38;5;241m=\u001b[39m \u001b[38;5;241m1\u001b[39m\n\u001b[1;32m    260\u001b[0m \u001b[38;5;28;01melse\u001b[39;00m:\n\u001b[0;32m--> 261\u001b[0m     collected \u001b[38;5;241m=\u001b[39m \u001b[38;5;28;43mself\u001b[39;49m\u001b[38;5;241;43m.\u001b[39;49m\u001b[43mcollectArticle\u001b[49m\u001b[43m(\u001b[49m\u001b[43mp\u001b[49m\u001b[43m,\u001b[49m\u001b[43mlinks\u001b[49m\u001b[38;5;241;43m=\u001b[39;49m\u001b[43mlinks\u001b[49m\u001b[43m,\u001b[49m\u001b[43mtext\u001b[49m\u001b[38;5;241;43m=\u001b[39;49m\u001b[43mtext\u001b[49m\u001b[43m,\u001b[49m\u001b[43mpage_obj\u001b[49m\u001b[38;5;241;43m=\u001b[39;49m\u001b[43mpage\u001b[49m\u001b[43m,\u001b[49m\u001b[43mcategories\u001b[49m\u001b[38;5;241;43m=\u001b[39;49m\u001b[43mcat_heridity\u001b[49m\u001b[43m)\u001b[49m\n\u001b[1;32m    262\u001b[0m     \u001b[38;5;28;01mif\u001b[39;00m collected \u001b[38;5;129;01mand\u001b[39;00m links:\n\u001b[1;32m    263\u001b[0m         lnks \u001b[38;5;241m+\u001b[39m\u001b[38;5;241m=\u001b[39m \u001b[38;5;28mlen\u001b[39m(\u001b[38;5;28mself\u001b[39m\u001b[38;5;241m.\u001b[39mlinks[p])\n",
      "File \u001b[0;32m~/Train/bioWords/WikiCrawler.py:332\u001b[0m, in \u001b[0;36mKnowledgeNet.collectArticle\u001b[0;34m(self, page, links, text, page_obj, categories)\u001b[0m\n\u001b[1;32m    329\u001b[0m \u001b[38;5;28mprint\u001b[39m(\u001b[38;5;124m'\u001b[39m\u001b[38;5;124mNetwork problem loading \u001b[39m\u001b[38;5;124m\"\u001b[39m\u001b[38;5;132;01m%s\u001b[39;00m\u001b[38;5;124m\"\u001b[39m\u001b[38;5;124m'\u001b[39m\u001b[38;5;241m%\u001b[39mpage,end\u001b[38;5;241m=\u001b[39m\u001b[38;5;124m'\u001b[39m\u001b[38;5;124m'\u001b[39m)\n\u001b[1;32m    331\u001b[0m \u001b[38;5;28;01mfor\u001b[39;00m r \u001b[38;5;129;01min\u001b[39;00m \u001b[38;5;28mrange\u001b[39m(\u001b[38;5;241m30\u001b[39m):\n\u001b[0;32m--> 332\u001b[0m     \u001b[43msleep\u001b[49m\u001b[43m(\u001b[49m\u001b[38;5;241;43m1\u001b[39;49m\u001b[43m)\u001b[49m\n\u001b[1;32m    333\u001b[0m     \u001b[38;5;28mprint\u001b[39m(\u001b[38;5;124m'\u001b[39m\u001b[38;5;124m.\u001b[39m\u001b[38;5;124m'\u001b[39m,end\u001b[38;5;241m=\u001b[39m\u001b[38;5;124m'\u001b[39m\u001b[38;5;124m'\u001b[39m)\n\u001b[1;32m    335\u001b[0m \u001b[38;5;28;01mif\u001b[39;00m tried \u001b[38;5;241m<\u001b[39m \u001b[38;5;241m2\u001b[39m:\n",
      "\u001b[0;31mKeyboardInterrupt\u001b[0m: "
>>>>>>> e9cc4d4dc0eaea50bed75bf2172f7e98b8fcf32f
     ]
    }
   ],
   "source": [
<<<<<<< HEAD
    "from WikiCrawler import KnowledgeNet\n",
    "cell_bio_twin = KnowledgeNet.load('cell_biology.pkl')"
=======
    "cell_bio_twin.collect(text=True)"
>>>>>>> e9cc4d4dc0eaea50bed75bf2172f7e98b8fcf32f
   ]
  },
  {
   "cell_type": "markdown",
   "id": "c2b99793",
   "metadata": {},
   "source": [
    "<h1>Multiple starting categories</h1>"
   ]
  },
  {
   "cell_type": "code",
   "execution_count": 33,
   "id": "6d4d955b",
   "metadata": {},
   "outputs": [
    {
     "name": "stdout",
     "output_type": "stream",
     "text": [
      "Start crawling categories starting at Category:Physiology.\n",
      "Scanned on level 1: found 128 pages and 21 subcategories, 4 skipped.\n",
      "Scanned on level 2: found 987 pages and 71 subcategories, 11 skipped.\n",
      "Scanned on level 3: found 1753 pages and 164 subcategories, 32 skipped.\n",
      "Scanned on level 4: found 3588 pages and 311 subcategories, 56 skipped.\n",
      "Collected 60509 articles from 1866 categories.\n"
     ]
    },
    {
     "ename": "Exception",
     "evalue": "File biology_collection.pkl already exists!",
     "output_type": "error",
     "traceback": [
      "\u001b[1;31m---------------------------------------------------------------------------\u001b[0m",
      "\u001b[1;31mException\u001b[0m                                 Traceback (most recent call last)",
      "\u001b[1;32m<ipython-input-33-552fc4b8d547>\u001b[0m in \u001b[0;36m<module>\u001b[1;34m\u001b[0m\n\u001b[0;32m     25\u001b[0m     \u001b[0mknb\u001b[0m\u001b[1;33m.\u001b[0m\u001b[0mstartScan\u001b[0m\u001b[1;33m(\u001b[0m\u001b[0mstart_at\u001b[0m\u001b[1;33m=\u001b[0m\u001b[0minit\u001b[0m\u001b[1;33m,\u001b[0m\u001b[0mdepth\u001b[0m\u001b[1;33m=\u001b[0m\u001b[1;36m4\u001b[0m\u001b[1;33m,\u001b[0m\u001b[0mskip\u001b[0m\u001b[1;33m=\u001b[0m\u001b[0mignore_explicit\u001b[0m\u001b[1;33m)\u001b[0m\u001b[1;33m\u001b[0m\u001b[1;33m\u001b[0m\u001b[0m\n\u001b[0;32m     26\u001b[0m \u001b[1;33m\u001b[0m\u001b[0m\n\u001b[1;32m---> 27\u001b[1;33m \u001b[0mknb\u001b[0m\u001b[1;33m.\u001b[0m\u001b[0msave\u001b[0m\u001b[1;33m(\u001b[0m\u001b[1;34m'biology_collection.pkl'\u001b[0m\u001b[1;33m)\u001b[0m\u001b[1;33m\u001b[0m\u001b[1;33m\u001b[0m\u001b[0m\n\u001b[0m",
      "\u001b[1;32mD:\\Train\\bioWords\\WikiCrawler.py\u001b[0m in \u001b[0;36msave\u001b[1;34m(self, file_name, overwrite)\u001b[0m\n\u001b[0;32m     40\u001b[0m         \u001b[0mself\u001b[0m\u001b[1;33m.\u001b[0m\u001b[0msave_path\u001b[0m \u001b[1;33m=\u001b[0m \u001b[0mfile_name\u001b[0m\u001b[1;33m\u001b[0m\u001b[1;33m\u001b[0m\u001b[0m\n\u001b[0;32m     41\u001b[0m         \u001b[0mno_save\u001b[0m \u001b[1;33m=\u001b[0m \u001b[1;33m[\u001b[0m\u001b[1;34m\"<class 'function'>\"\u001b[0m\u001b[1;33m,\u001b[0m\u001b[1;34m\"<class 'method'>\"\u001b[0m\u001b[1;33m]\u001b[0m\u001b[1;33m\u001b[0m\u001b[1;33m\u001b[0m\u001b[0m\n\u001b[1;32m---> 42\u001b[1;33m         save_variables = [child for child in dir(self)\n\u001b[0m\u001b[0;32m     43\u001b[0m                   if not re.match('^__.*__$',child) and not str(type(getattr(self,child))) in no_save]\n\u001b[0;32m     44\u001b[0m \u001b[1;33m\u001b[0m\u001b[0m\n",
      "\u001b[1;31mException\u001b[0m: File biology_collection.pkl already exists!"
     ]
    }
   ],
   "source": [
    "from WikiCrawler import KnowledgeNet\n",
    "\n",
    "knb = KnowledgeNet() \n",
    "knb.setSkipRule([\n",
    "    \".* about .*\",\".*logists.*\",\".*People.*with.*\",\".*Deaths from.*\",\".*Lists? of.*\",\".*Association for.*\",\".*Association of.*\"\n",
    "    \".*journals.*\",\".*Society.*\",'.*literature.*', '.*organizations.*', '.*awards.*', '.*weapons.*'])\n",
    "\n",
    "init_categories = [\n",
    "    'Category:Cell biology',\n",
    "    'Category:Pathology',\n",
    "    'Category:Synthetic biology',\n",
    "    'Category:Microbiology',\n",
    "    'Category:Molecular biology',\n",
    "    'Category:Biochemistry',\n",
    "    'Category:Genetics',\n",
    "    'Category:Developmental biology',\n",
    "    'Category:Immunology',\n",
    "    'Category:Physiology']\n",
    "\n",
    "ignore_explicit = [\n",
    "    'Category:Fertilizers','Category:Soaps','Category:Centenarians','Criminal transmission of HIV',\n",
    "    'Opponents of genetic engineering']\n",
    "\n",
    "for init in init_categories:\n",
    "    knb.startScan(start_at=init,depth=4,skip=ignore_explicit)\n",
    "    \n",
    "knb.save('biology_collection.pkl')"
   ]
  },
  {
   "cell_type": "code",
<<<<<<< HEAD
   "execution_count": 1,
   "id": "78002e87",
   "metadata": {},
   "outputs": [
    {
     "name": "stdout",
     "output_type": "stream",
     "text": [
      "Loaded 23 member variables from biology_collection.pkl\n"
     ]
    }
   ],
   "source": [
    "from WikiCrawler import KnowledgeNet\n",
    "knb = KnowledgeNet.load('biology_collection.pkl')"
   ]
  },
  {
   "cell_type": "code",
   "execution_count": 3,
   "id": "deb1bee1",
   "metadata": {},
   "outputs": [
    {
     "name": "stdout",
     "output_type": "stream",
     "text": [
      "delete existing archive biology_collection.zip? [y/n]y\n"
     ]
    }
   ],
   "source": [
    "knb.resetCollection()"
   ]
  },
  {
   "cell_type": "code",
   "execution_count": 4,
   "id": "8fd4c847",
   "metadata": {},
   "outputs": [
    {
     "name": "stdout",
     "output_type": "stream",
     "text": [
      "Collecting: [==============================] 100 % (60509/60509 pages)\n",
      " running: 846 min 13 s ; remaining: 0.0 s s \n",
      " 9182974 links 541222 lines of text\n"
     ]
    }
   ],
   "source": [
    "knb.collect(text=True,links=True,\n",
    "                      archive_path='biology_collection',zipped=True,save_interval=1000)"
   ]
  },
  {
   "cell_type": "code",
   "execution_count": 15,
   "id": "35d2937d",
   "metadata": {},
   "outputs": [
    {
     "data": {
      "text/plain": [
       "32391"
      ]
     },
     "execution_count": 15,
     "metadata": {},
     "output_type": "execute_result"
    }
   ],
   "source": [
    "len(knb.links)"
   ]
  },
  {
   "cell_type": "code",
   "execution_count": 3,
   "id": "9c04b7ed",
   "metadata": {},
   "outputs": [
    {
     "name": "stdout",
     "output_type": "stream",
     "text": [
      "83\n",
      "Cell_~biology~.txt\n",
      "Cell_biology.txt\n",
      "Acrasin.txt\n",
      "Acroplaxome.txt\n",
      "Actin-binding_protein.txt\n",
      "Activation-induced_cell_death.txt\n",
      "Acyl-protein_thioesterase.txt\n",
      "Adhesome.txt\n",
      "Adipogenesis.txt\n",
      "Adoptive_cell_transfer.txt\n",
      "ADP-ribosylation.txt\n",
      "He_Jiankui_affair.txt\n",
      "Aggresome.txt\n",
      "ALOX12B.txt\n",
      "Alpha_oxidation.txt\n",
      "Alv~ole_Lab.txt\n",
      "7-Aminoactinomycin_D.txt\n",
      "Amoeba.txt\n",
      "Antigenic_escape.txt\n",
      "Antimicrobial_nanotechnology.txt\n",
      "Apical_constriction.txt\n",
      "Auger_architectomics.txt\n",
      "Autoinducer-2.txt\n",
      "Autophagosome.txt\n",
      "Autophosphorylation.txt\n",
      "Axenic.txt\n",
      "Bacterial_senescence.txt\n",
      "Bacteriolysin.txt\n",
      "Balanced_salt_solution.txt\n",
      "Ball_and_chain_inactivation.txt\n",
      "Basophil.txt\n",
      "Basophil_activation.txt\n",
      "Basophilia.txt\n",
      "Beta_dispersion.txt\n",
      "Beta_oxidation.txt\n",
      "Biocrystallization.txt\n",
      "Bioenergetics.txt\n",
      "Biogenesis_of_lysosome-related_organelles_complex_1.txt\n",
      "Biomarker_~cell~.txt\n",
      "Biomolecular_complex.txt\n",
      "Biomolecular_gradient.txt\n",
      "Boveri~Sutton_chromosome_theory.txt\n",
      "C17orf75.txt\n",
      "Calcium_chloride_transformation.txt\n",
      "Calcium_pump.txt\n",
      "Calcium_sparks.txt\n",
      "Callus_~cell_biology~.txt\n",
      "CAMP-dependent_pathway.txt\n",
      "Cation_diffusion_facilitator.txt\n",
      "CC_chemokine_receptors.txt\n",
      "Mosaic_~genetics~.txt\n",
      "Artificial_cell.txt\n",
      "Cell_cortex.txt\n",
      "Cell_counting.txt\n",
      "3D_cell_culturing_by_magnetic_levitation.txt\n",
      "Cell_culture.txt\n",
      "Chemically_defined_medium.txt\n",
      "Cell_culture_assay.txt\n",
      "Cell_cycle_analysis.txt\n",
      "Cell_cycle_withdrawal.txt\n",
      "Cell_damage.txt\n",
      "Cell_disruption.txt\n",
      "Cell_division_orientation.txt\n",
      "Cell_fusion.txt\n",
      "Cell_lineage.txt\n",
      "Cell_physiology.txt\n",
      "Cell_polarity.txt\n",
      "Cell_potency.txt\n",
      "Cell_signaling.txt\n",
      "Cell_synchronization.txt\n",
      "Cell_theory.txt\n",
      "Cell_therapy.txt\n",
      "Cell_unroofing.txt\n",
      "Cell~cell_interaction.txt\n",
      "Cell-free_protein_synthesis.txt\n",
      "Cell-free_system.txt\n",
      "Cell-mediated_immunity.txt\n",
      "Cell-penetrating_peptide.txt\n",
      "CellCognition.txt\n",
      "Cellosaurus.txt\n",
      "CellProfiler.txt\n",
      "Cellular_adaptation.txt\n",
      "Cellular_dewetting.txt\n"
     ]
    }
   ],
   "source": [
    "import zipfile\n",
    "archive_path = 'biology_collection_v2.zip'\n",
    "\n",
    "with zipfile.ZipFile(archive_path,'r') as zf:\n",
    "    #print(dir(zf))\n",
    "    print(len(zf.filelist))\n",
    "    for f in zf.filelist:\n",
    "        print(f.filename)"
   ]
  },
  {
   "cell_type": "code",
   "execution_count": 2,
   "id": "2dff7392",
=======
   "execution_count": 2,
   "id": "b5bae82c",
>>>>>>> e9cc4d4dc0eaea50bed75bf2172f7e98b8fcf32f
   "metadata": {},
   "outputs": [
    {
     "name": "stdout",
     "output_type": "stream",
     "text": [
<<<<<<< HEAD
      "Category:Cell biology (14 C ; 510 A)\n",
      "Category:Pathology (18 C ; 104 A)\n",
      "Category:Synthetic biology (2 C ; 62 A)\n",
      "Category:Microbiology (18 C ; 153 A)\n",
      "Category:Molecular biology (15 C ; 671 A)\n",
      "Category:Biochemistry (30 C ; 246 A)\n",
      "Category:Genetics (40 C ; 342 A)\n",
      "Category:Developmental biology (12 C ; 157 A)\n",
      "Category:Immunology (22 C ; 295 A)\n",
      "Category:Physiology (25 C ; 211 A)\n"
=======
      "Saved 20 member variables to biology_collection.pkl\n"
>>>>>>> e9cc4d4dc0eaea50bed75bf2172f7e98b8fcf32f
     ]
    }
   ],
   "source": [
    "knb.save('biology_collection.pkl')"
   ]
  },
  {
   "cell_type": "code",
<<<<<<< HEAD
   "execution_count": 3,
   "id": "e866e973",
=======
   "execution_count": 12,
   "id": "2dff7392",
>>>>>>> e9cc4d4dc0eaea50bed75bf2172f7e98b8fcf32f
   "metadata": {},
   "outputs": [
    {
     "name": "stdout",
     "output_type": "stream",
     "text": [
<<<<<<< HEAD
      "Collected 46424 articles from 1769 categories.\n"
=======
      "Category:Cell biology (14 C ; 510 A)\n",
      "Category:Pathology (18 C ; 104 A)\n",
      "Category:Synthetic biology (2 C ; 62 A)\n",
      "Category:Microbiology (18 C ; 153 A)\n",
      "Category:Molecular biology (15 C ; 671 A)\n",
      "Category:Biochemistry (30 C ; 246 A)\n",
      "Category:Genetics (40 C ; 342 A)\n",
      "Category:Developmental biology (12 C ; 156 A)\n",
      "Category:Immunology (22 C ; 295 A)\n",
      "Category:Physiology (25 C ; 211 A)\n"
>>>>>>> e9cc4d4dc0eaea50bed75bf2172f7e98b8fcf32f
     ]
    }
   ],
   "source": [
<<<<<<< HEAD
    "knb.indexInfo()"
=======
    "knb.printCategoryTree(0)"
>>>>>>> e9cc4d4dc0eaea50bed75bf2172f7e98b8fcf32f
   ]
  },
  {
   "cell_type": "code",
<<<<<<< HEAD
   "execution_count": 41,
   "id": "6c3d1942",
   "metadata": {},
   "outputs": [],
   "source": [
    "category_articles = {}\n",
    "article_categories = {}\n",
    "for a in knb.articles.keys():\n",
    "    categories = knb.retrieveCategories(a)\n",
    "    article_categories[a] = categories\n",
    "    for c in categories:\n",
    "        if not c in category_articles.keys():\n",
    "            category_articles[c] = []\n",
    "        category_articles[c].append(a)\n",
    "    "
   ]
  },
  {
   "cell_type": "code",
   "execution_count": 46,
   "id": "b8d8337f",
   "metadata": {},
   "outputs": [],
   "source": [
    "larg_categories = {c:len(ars) for c,ars in sorted(category_articles.items(),key=lambda x:-len(x[1])) if len(ars) > 1000}\n",
    "category_id = {c:i for i,c in enumerate(larg_categories.keys())}"
   ]
  },
  {
   "cell_type": "code",
   "execution_count": 61,
   "id": "976b6105",
=======
   "execution_count": 13,
   "id": "e866e973",
>>>>>>> e9cc4d4dc0eaea50bed75bf2172f7e98b8fcf32f
   "metadata": {},
   "outputs": [
    {
     "name": "stdout",
     "output_type": "stream",
     "text": [
<<<<<<< HEAD
      "P53: 55\n",
      "['Biochemistry', 'Medicinal chemistry', 'Genetics', 'Pharmacology', 'Molecular biology', 'Physiology', 'Pharmacognosy', 'Branches of genetics', 'Molecular evolution', 'Natural products', 'Molecular biophysics', 'Molecular genetics', 'Structural biology', 'Cell biology', 'Human physiology', 'Biomolecules', 'Modification of genetic information', 'Medical aspects of death', 'Underwater diving physiology', 'Cellular processes', 'Biomolecules by type', 'Genetic engineering', 'Developmental biology', 'Forensic science', 'Metabolism', 'Biomolecules by chemical classification', 'Causes of death', 'Neurophysiology', 'Cell communication', 'Cells', 'Cloning', 'Metabolic disorders', 'Neurochemistry', 'Stem cells', 'Regenerative biomedicine', 'Genetics techniques', 'Tissue engineering', 'Proteins', 'Cell cycle', 'Cell signaling', 'Senescence', 'Proteins by function', 'Cell death', 'Signal transduction', 'Stem cell research', 'Cellular senescence', 'Cell culture', 'DNA-binding substances', 'Gene expression', 'Induced stem cells', 'Programmed cell death', 'DNA-binding proteins', 'Transcription factors', 'Aging-related proteins', 'Apoptosis']\n",
      "\n",
      "The Proteolysis Map: 52\n",
      "['Biochemistry', 'Medicinal chemistry', 'Pharmacology', 'Molecular biology', 'Pharmacognosy', 'Natural products', 'Molecular biophysics', 'Structural biology', 'Physiology', 'Biomolecules', 'Cell biology', 'Human physiology', 'Medical aspects of death', 'Underwater diving physiology', 'Biomolecules by type', 'Cellular processes', 'Genetics', 'Biomolecules by chemical classification', 'Forensic science', 'Metabolism', 'Causes of death', 'Branches of genetics', 'Neurophysiology', 'Cell communication', 'Proteins', 'Metabolic disorders', 'Neurochemistry', 'Protein structure', 'Proteomics', 'Molecular genetics', 'Membrane biology', 'Cell cycle', 'Cell signaling', 'Senescence', 'Protein classification', 'Proteins by structure', 'Cell death', 'Gene expression', 'Signal transduction', 'Biosynthesis', 'Proteins by location', 'Cellular senescence', 'Membrane-active molecules', 'Programmed cell death', 'Membrane proteins', 'Protein families', 'Protein biosynthesis', 'Biochemical reactions', 'Post-translational modification', 'Apoptosis', 'Peripheral membrane proteins', 'Protein domains']\n",
      "\n",
      "NF-κB: 57\n",
      "['Biochemistry', 'Medicinal chemistry', 'Genetics', 'Pharmacology', 'Molecular biology', 'Pharmacognosy', 'Branches of genetics', 'Molecular evolution', 'Natural products', 'Molecular biophysics', 'Molecular genetics', 'Structural biology', 'Physiology', 'Biomolecules', 'Modification of genetic information', 'Cell biology', 'Human physiology', 'Underwater diving physiology', 'Medical aspects of death', 'Biomolecules by type', 'Genetic engineering', 'Developmental biology', 'Cellular processes', 'Cells', 'Cloning', 'Biomolecules by chemical classification', 'Forensic science', 'Metabolism', 'Stem cells', 'Causes of death', 'Regenerative biomedicine', 'Genetics techniques', 'Tissue engineering', 'Neurophysiology', 'Cell communication', 'Proteins', 'Metabolic disorders', 'Neurochemistry', 'Protein structure', 'Proteins by function', 'Stem cell research', 'Cell culture', 'Cell cycle', 'DNA-binding substances', 'Cell signaling', 'Senescence', 'Cell death', 'Gene expression', 'Induced stem cells', 'Cellular senescence', 'Proteins by structure', 'DNA-binding proteins', 'Signal transduction', 'Programmed cell death', 'Protein complexes', 'Transcription factors', 'Aging-related proteins']\n",
      "\n",
      "Archaeal transcription factor B: 54\n",
      "['Biochemistry', 'Medicinal chemistry', 'Genetics', 'Pharmacology', 'Molecular biology', 'Pharmacognosy', 'Branches of genetics', 'Molecular evolution', 'Natural products', 'Molecular biophysics', 'Molecular genetics', 'Structural biology', 'Modification of genetic information', 'Biomolecules', 'Microbiology', 'Biomolecules by type', 'Genetic engineering', 'Cell biology', 'Developmental biology', 'Microorganisms', 'Cells', 'Cloning', 'Bacteriology', 'Prokaryotes', 'Cellular processes', 'Biomolecules by chemical classification', 'Physiology', 'Stem cells', 'Microbial growth and nutrition', 'Regenerative biomedicine', 'Bacteria', 'Genetics techniques', 'Tissue engineering', 'Neurophysiology', 'Environmental microbiology', 'Geomicrobiology', 'Cell communication', 'Proteins', 'Neurochemistry', 'Proteins by function', 'Extremophiles', 'Genetics by type of organism', 'Stem cell research', 'Cell culture', 'DNA-binding substances', 'Cell signaling', 'Gene expression', 'Induced stem cells', 'Genes by type of organism', 'Archaea', 'DNA-binding proteins', 'Signal transduction', 'Archaeal genes', 'Transcription factors']\n",
      "\n",
      "Helix-turn-helix: 54\n",
      "['Biochemistry', 'Medicinal chemistry', 'Pharmacology', 'Molecular biology', 'Genetics', 'Pharmacognosy', 'Natural products', 'Molecular biophysics', 'Structural biology', 'Branches of genetics', 'Molecular evolution', 'Molecular genetics', 'Biomolecules', 'Modification of genetic information', 'Biomolecules by type', 'Genetic engineering', 'Cell biology', 'Developmental biology', 'Biomolecules by chemical classification', 'Cells', 'Cloning', 'Cellular processes', 'Proteins', 'Physiology', 'Biochemistry methods', 'Protein structure', 'Stem cells', 'Regenerative biomedicine', 'Protein biochemistry', 'Genetics techniques', 'Tissue engineering', 'Proteomics', 'Neurophysiology', 'Cell communication', 'Neurochemistry', 'Protein classification', 'Proteins by function', 'Proteins by structure', 'Molecular biology techniques', 'Protein methods', 'Stem cell research', 'Cell culture', 'DNA-binding substances', 'Biochemistry detection methods', 'Cell signaling', 'Signal transduction', 'Gene expression', 'Protein families', 'Proteomic sequencing', 'DNA-binding proteins', 'Induced stem cells', 'Protein structural motifs', 'Transcription factors', 'Protein domains']\n",
      "\n",
      "ZBTB48: 57\n",
      "['Biochemistry', 'Medicinal chemistry', 'Genetics', 'Pharmacology', 'Molecular biology', 'Pharmacognosy', 'Branches of genetics', 'Molecular evolution', 'Natural products', 'Molecular biophysics', 'Molecular genetics', 'Structural biology', 'Modification of genetic information', 'Biomolecules', 'Cell biology', 'Physiology', 'Biomolecules by type', 'Genetic engineering', 'Developmental biology', 'Human physiology', 'Cell anatomy', 'Cells', 'Underwater diving physiology', 'Medical aspects of death', 'Cloning', 'Cytoplasm', 'Cellular processes', 'Biomolecules by chemical classification', 'Stem cells', 'Forensic science', 'Regenerative biomedicine', 'Genetics techniques', 'Organelles', 'Tissue engineering', 'Metabolism', 'Neurophysiology', 'Cell communication', 'Proteins', 'Neurochemistry', 'Proteins by function', 'Causes of death', 'Mobile genetic elements', 'Stem cell research', 'Cell nucleus', 'Metabolic disorders', 'Cell culture', 'DNA-binding substances', 'Cell signaling', 'Signal transduction', 'Gene expression', 'Chromosomes', 'DNA-binding proteins', 'Repetitive DNA sequences', 'Induced stem cells', 'Senescence', 'Telomeres', 'Transcription factors']\n",
      "\n",
      "Long QT syndrome: 52\n",
      "['Biochemistry', 'Medicinal chemistry', 'Pharmacology', 'Molecular biology', 'Pharmacognosy', 'Natural products', 'Molecular biophysics', 'Structural biology', 'Genetics', 'Developmental biology', 'Biomolecules', 'Branches of genetics', 'Sexual reproduction', 'Physiology', 'Biomolecules by type', 'Reproduction in mammals', 'Statistical genetics', 'Human physiology', 'Animal physiology', 'Population genetics', 'Cell biology', 'Animal anatomy', 'Biomolecules by chemical classification', 'Human reproduction', 'History of genetics', 'Exercise physiology', 'Phylogenetics', 'Human genetic history', 'Human population genetics', 'Circulatory system', 'Proteins', 'Kinship and descent', 'Modern human genetic history', 'Genealogy', 'Cardiovascular system', 'Proteins by function', 'Cell anatomy', 'Electrophysiology', 'Medical genetics', 'Genetic polymorphisms', 'Cytoplasm', 'Proteins by location', 'Genetic genealogy', 'Structural proteins', 'Cardiovascular physiology', 'Cytoskeleton', 'Genetic diseases and disorders', 'Single-nucleotide polymorphisms', 'Cardiac electrophysiology', 'Single-nucleotide polymorphism associated disease', 'Cytoskeletal defects', 'Cardiac arrhythmia']\n",
      "\n",
      "FOX proteins: 51\n",
      "['Biochemistry', 'Medicinal chemistry', 'Genetics', 'Pharmacology', 'Molecular biology', 'Pharmacognosy', 'Branches of genetics', 'Molecular evolution', 'Natural products', 'Molecular biophysics', 'Molecular genetics', 'Structural biology', 'Modification of genetic information', 'Biomolecules', 'Biomolecules by type', 'Genetic engineering', 'Cell biology', 'Developmental biology', 'Physiology', 'Cells', 'Cloning', 'Human physiology', 'Cellular processes', 'Biomolecules by chemical classification', 'Neurophysiology', 'Underwater diving physiology', 'Medical aspects of death', 'Regenerative biomedicine', 'Stem cells', 'Genetics techniques', 'Proteins', 'Cell communication', 'Tissue engineering', 'Neurochemistry', 'Proteins by function', 'Forensic science', 'Metabolism', 'Stem cell research', 'Cell culture', 'DNA-binding substances', 'Cell signaling', 'Causes of death', 'Gene expression', 'Induced stem cells', 'Metabolic disorders', 'DNA-binding proteins', 'Signal transduction', 'Transcription factors', 'Senescence', 'Forkhead transcription factors', 'Aging-related proteins']\n",
      "\n",
      "Forkhead Box Protein L2: 51\n",
      "['Biochemistry', 'Medicinal chemistry', 'Genetics', 'Pharmacology', 'Molecular biology', 'Pharmacognosy', 'Branches of genetics', 'Molecular evolution', 'Natural products', 'Molecular biophysics', 'Molecular genetics', 'Structural biology', 'Modification of genetic information', 'Biomolecules', 'Biomolecules by type', 'Genetic engineering', 'Cell biology', 'Developmental biology', 'Physiology', 'Cells', 'Cloning', 'Human physiology', 'Cellular processes', 'Biomolecules by chemical classification', 'Neurophysiology', 'Underwater diving physiology', 'Medical aspects of death', 'Regenerative biomedicine', 'Stem cells', 'Genetics techniques', 'Proteins', 'Cell communication', 'Tissue engineering', 'Neurochemistry', 'Proteins by function', 'Forensic science', 'Metabolism', 'Stem cell research', 'Cell culture', 'DNA-binding substances', 'Cell signaling', 'Causes of death', 'Gene expression', 'Induced stem cells', 'Metabolic disorders', 'DNA-binding proteins', 'Signal transduction', 'Transcription factors', 'Senescence', 'Forkhead transcription factors', 'Aging-related proteins']\n",
      "\n",
      "FOXO3: 51\n",
      "['Biochemistry', 'Medicinal chemistry', 'Genetics', 'Pharmacology', 'Molecular biology', 'Pharmacognosy', 'Branches of genetics', 'Molecular evolution', 'Natural products', 'Molecular biophysics', 'Molecular genetics', 'Structural biology', 'Modification of genetic information', 'Biomolecules', 'Biomolecules by type', 'Genetic engineering', 'Cell biology', 'Developmental biology', 'Physiology', 'Cells', 'Cloning', 'Human physiology', 'Cellular processes', 'Biomolecules by chemical classification', 'Neurophysiology', 'Underwater diving physiology', 'Medical aspects of death', 'Regenerative biomedicine', 'Stem cells', 'Genetics techniques', 'Proteins', 'Cell communication', 'Tissue engineering', 'Neurochemistry', 'Proteins by function', 'Forensic science', 'Metabolism', 'Stem cell research', 'Cell culture', 'DNA-binding substances', 'Cell signaling', 'Causes of death', 'Gene expression', 'Induced stem cells', 'Metabolic disorders', 'DNA-binding proteins', 'Signal transduction', 'Transcription factors', 'Senescence', 'Forkhead transcription factors', 'Aging-related proteins']\n",
      "\n",
      "FOXO4: 51\n",
      "['Biochemistry', 'Medicinal chemistry', 'Genetics', 'Pharmacology', 'Molecular biology', 'Pharmacognosy', 'Branches of genetics', 'Molecular evolution', 'Natural products', 'Molecular biophysics', 'Molecular genetics', 'Structural biology', 'Modification of genetic information', 'Biomolecules', 'Biomolecules by type', 'Genetic engineering', 'Cell biology', 'Developmental biology', 'Physiology', 'Cells', 'Cloning', 'Human physiology', 'Cellular processes', 'Biomolecules by chemical classification', 'Neurophysiology', 'Underwater diving physiology', 'Medical aspects of death', 'Regenerative biomedicine', 'Stem cells', 'Genetics techniques', 'Proteins', 'Cell communication', 'Tissue engineering', 'Neurochemistry', 'Proteins by function', 'Forensic science', 'Metabolism', 'Stem cell research', 'Cell culture', 'DNA-binding substances', 'Cell signaling', 'Causes of death', 'Gene expression', 'Induced stem cells', 'Metabolic disorders', 'DNA-binding proteins', 'Signal transduction', 'Transcription factors', 'Senescence', 'Forkhead transcription factors', 'Aging-related proteins']\n",
      "\n",
      "Ecdysone receptor: 53\n",
      "['Biochemistry', 'Medicinal chemistry', 'Genetics', 'Pharmacology', 'Molecular biology', 'Pharmacognosy', 'Branches of genetics', 'Molecular evolution', 'Natural products', 'Molecular biophysics', 'Molecular genetics', 'Structural biology', 'Biomolecules', 'Modification of genetic information', 'Cell biology', 'Biomolecules by type', 'Genetic engineering', 'Developmental biology', 'Cellular processes', 'Physiology', 'Neurophysiology', 'Cells', 'Cloning', 'Cell communication', 'Biomolecules by chemical classification', 'Neurochemistry', 'Regenerative biomedicine', 'Stem cells', 'Genetics techniques', 'Proteins', 'Tissue engineering', 'Cell signaling', 'Protein structure', 'Proteins by function', 'Proteomics', 'Signal transduction', 'Stem cell research', 'Cell culture', 'DNA-binding substances', 'Protein classification', 'Gene expression', 'Induced stem cells', 'DNA-binding proteins', 'Animal physiology', 'Receptors', 'Proteins by structure', 'Insect physiology', 'Protein families', 'Intracellular receptors', 'Transcription factors', 'Animal developmental biology', 'Nuclear receptors', 'Insect developmental biology']\n",
      "\n",
      "Glucocorticoid receptor: 53\n",
      "['Biochemistry', 'Medicinal chemistry', 'Genetics', 'Pharmacology', 'Molecular biology', 'Pharmacognosy', 'Branches of genetics', 'Molecular evolution', 'Natural products', 'Molecular biophysics', 'Molecular genetics', 'Structural biology', 'Biomolecules', 'Modification of genetic information', 'Cell biology', 'Biomolecules by type', 'Genetic engineering', 'Developmental biology', 'Cellular processes', 'Physiology', 'Neurophysiology', 'Cells', 'Cloning', 'Cell communication', 'Biomolecules by chemical classification', 'Neurochemistry', 'Regenerative biomedicine', 'Stem cells', 'Genetics techniques', 'Proteins', 'Tissue engineering', 'Cell signaling', 'Protein structure', 'Proteins by function', 'Proteomics', 'Signal transduction', 'Stem cell research', 'Cell culture', 'DNA-binding substances', 'Protein classification', 'Gene expression', 'Genomics', 'DNA-binding proteins', 'Receptors', 'Induced stem cells', 'Proteins by structure', 'Protein families', 'Intracellular receptors', 'Transcription factors', 'Genetic mapping', 'History of genetics', 'Nuclear receptors', 'Genome projects']\n",
      "\n"
=======
      "Collected 46470 articles from 1769 categories.\n"
>>>>>>> e9cc4d4dc0eaea50bed75bf2172f7e98b8fcf32f
     ]
    }
   ],
   "source": [
<<<<<<< HEAD
    "import numpy as np\n",
    "indicator = np.zeros((len(knb.articles),len(category_id)))\n",
    "\n",
    "for a in knb.articles.keys():\n",
    "    cats = article_categories[a]\n",
    "    if len(cats) == 0:\n",
    "        print(a)\n",
    "    elif len(cats) > 50:\n",
    "        print(f'{a}: {len(cats)}')\n",
    "        print([c[9:] for c in cats])\n",
    "        print()\n",
    "    have = [i for c,i in category_id.items() if c in cats]\n",
    "    indicator[have] = 1"
=======
    "knb.indexInfo()"
>>>>>>> e9cc4d4dc0eaea50bed75bf2172f7e98b8fcf32f
   ]
  },
  {
   "cell_type": "code",
<<<<<<< HEAD
   "execution_count": 55,
   "id": "d4a5f95e",
   "metadata": {},
   "outputs": [
    {
     "data": {
      "text/plain": [
       "87.0"
      ]
     },
     "execution_count": 55,
     "metadata": {},
     "output_type": "execute_result"
    }
   ],
   "source": [
    "indicator.sum(1).max()"
=======
   "execution_count": 11,
   "id": "05f65ac9",
   "metadata": {},
   "outputs": [
    {
     "name": "stdout",
     "output_type": "stream",
     "text": [
      "Loaded 20 member variables from biology_collection.pkl\n"
     ]
    }
   ],
   "source": [
    "from WikiCrawler import KnowledgeNet\n",
    "knb = KnowledgeNet.load('biology_collection.pkl')"
>>>>>>> e9cc4d4dc0eaea50bed75bf2172f7e98b8fcf32f
   ]
  },
  {
   "cell_type": "code",
<<<<<<< HEAD
   "execution_count": 1,
   "id": "05f65ac9",
   "metadata": {},
=======
   "execution_count": 28,
   "id": "a1fb3d64",
   "metadata": {
    "scrolled": false
   },
>>>>>>> e9cc4d4dc0eaea50bed75bf2172f7e98b8fcf32f
   "outputs": [
    {
     "name": "stdout",
     "output_type": "stream",
     "text": [
<<<<<<< HEAD
      "Loaded 27 member variables from biology_collection.pkl\n"
=======
      "Collecting: [==============================] 100 % (100/100 pages)\n",
      " running: 1 min 02 s ; remaining: 0.0 s s \n",
      " 10720 links 1162 lines of text 17 skipped\n"
>>>>>>> e9cc4d4dc0eaea50bed75bf2172f7e98b8fcf32f
     ]
    }
   ],
   "source": [
<<<<<<< HEAD
    "from WikiCrawler import KnowledgeNet\n",
    "knb = KnowledgeNet.load('biology_collection.pkl')"
   ]
  },
  {
   "cell_type": "code",
   "execution_count": 2,
   "id": "71e9c44c",
   "metadata": {},
   "outputs": [],
   "source": [
    "knb.resetCollection()"
   ]
  },
  {
   "cell_type": "code",
   "execution_count": null,
   "id": "a1fb3d64",
   "metadata": {
    "scrolled": false
   },
   "outputs": [
    {
     "name": "stdout",
     "output_type": "stream",
     "text": [
      "Collecting: [=====                         ]  16 % (820/5000 pages)\n",
      " running: 9 min 44 s ; remaining: 49 min 37 s s \n",
      " 92320 links 8187 lines of text\n"
     ]
    }
   ],
   "source": [
    "knb.collect(text=True,links=True,limit=5000,\n",
    "                      archive_path='biology_collection',zipped=True,save_interval=500)"
=======
    "knb.collect(text=True,links=True,\n",
    "                      save_path='biology_collection',zipped=True,save_interval=100,\n",
    "                      limit=100)"
>>>>>>> e9cc4d4dc0eaea50bed75bf2172f7e98b8fcf32f
   ]
  },
  {
   "cell_type": "code",
<<<<<<< HEAD
   "execution_count": 3,
   "id": "b90697a1",
=======
   "execution_count": 29,
   "id": "b3b80d2a",
>>>>>>> e9cc4d4dc0eaea50bed75bf2172f7e98b8fcf32f
   "metadata": {},
   "outputs": [
    {
     "data": {
      "text/plain": [
<<<<<<< HEAD
       "10000"
      ]
     },
     "execution_count": 3,
=======
       "100"
      ]
     },
     "execution_count": 29,
>>>>>>> e9cc4d4dc0eaea50bed75bf2172f7e98b8fcf32f
     "metadata": {},
     "output_type": "execute_result"
    }
   ],
   "source": [
    "knb.collected "
   ]
  },
  {
   "cell_type": "code",
<<<<<<< HEAD
   "execution_count": 23,
   "id": "22773ef1",
=======
   "execution_count": 26,
   "id": "92ebb9f4",
>>>>>>> e9cc4d4dc0eaea50bed75bf2172f7e98b8fcf32f
   "metadata": {},
   "outputs": [
    {
     "data": {
      "text/plain": [
<<<<<<< HEAD
       "103"
      ]
     },
     "execution_count": 23,
=======
       "0"
      ]
     },
     "execution_count": 26,
>>>>>>> e9cc4d4dc0eaea50bed75bf2172f7e98b8fcf32f
     "metadata": {},
     "output_type": "execute_result"
    }
   ],
   "source": [
<<<<<<< HEAD
    "len([s for s in knb.skipped if not s[:9] == 'Category:'])"
=======
    "categories = {}\n",
    "for page in list(knb.pages.keys()):\n",
    "    for c in knb.retrieveCategories(page):\n",
    "        if not c[9:] in categories.keys():\n",
    "            categories[c[9:]] = []\n",
    "        categories[c[9:]].append(page)\n",
    "        \n",
    "len(categories)"
>>>>>>> e9cc4d4dc0eaea50bed75bf2172f7e98b8fcf32f
   ]
  },
  {
   "cell_type": "code",
<<<<<<< HEAD
   "execution_count": 18,
   "id": "d5241c16",
=======
   "execution_count": 27,
   "id": "dd8e88f0",
>>>>>>> e9cc4d4dc0eaea50bed75bf2172f7e98b8fcf32f
   "metadata": {},
   "outputs": [
    {
     "data": {
      "text/plain": [
<<<<<<< HEAD
       "624"
      ]
     },
     "execution_count": 18,
=======
       "{}"
      ]
     },
     "execution_count": 27,
>>>>>>> e9cc4d4dc0eaea50bed75bf2172f7e98b8fcf32f
     "metadata": {},
     "output_type": "execute_result"
    }
   ],
   "source": [
<<<<<<< HEAD
    "len(knb.skipped_byrule)"
   ]
  },
  {
   "cell_type": "code",
   "execution_count": null,
   "id": "28aa8a6b",
   "metadata": {},
   "outputs": [],
   "source": [
    "import matplotlib.pyplot as plt\n",
    "truth = knb.stalk_time_prediction[-1][0]\n",
    "plt.plot([x[0] + x[1]-truth for x in knb.stalk_time_prediction])\n",
    "plt.ylim([-5*60,5*60])"
   ]
  },
  {
   "cell_type": "code",
   "execution_count": 27,
   "id": "dd8e88f0",
   "metadata": {},
   "outputs": [
    {
     "data": {
      "text/plain": [
       "{}"
      ]
     },
     "execution_count": 27,
     "metadata": {},
     "output_type": "execute_result"
    }
   ],
   "source": [
=======
>>>>>>> e9cc4d4dc0eaea50bed75bf2172f7e98b8fcf32f
    "{cat:len(cat_members) for cat,cat_members in categories.items() if len(cat_members) > 300 and len(cat_members) < 1000}"
   ]
  },
  {
   "cell_type": "code",
   "execution_count": null,
   "id": "1bf54900",
   "metadata": {},
   "outputs": [],
   "source": []
  }
 ],
 "metadata": {
  "kernelspec": {
   "display_name": "Python 3 (ipykernel)",
   "language": "python",
   "name": "python3"
  },
  "language_info": {
   "codemirror_mode": {
    "name": "ipython",
    "version": 3
   },
   "file_extension": ".py",
   "mimetype": "text/x-python",
   "name": "python",
   "nbconvert_exporter": "python",
   "pygments_lexer": "ipython3",
   "version": "3.8.8"
  }
 },
 "nbformat": 4,
 "nbformat_minor": 5
}
